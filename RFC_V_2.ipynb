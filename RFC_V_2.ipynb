{
 "cells": [
  {
   "cell_type": "code",
   "execution_count": 1,
   "metadata": {},
   "outputs": [
    {
     "name": "stderr",
     "output_type": "stream",
     "text": [
      "C:\\Users\\Sohrab-PC\\Anaconda3\\lib\\site-packages\\sklearn\\cross_validation.py:44: DeprecationWarning: This module was deprecated in version 0.18 in favor of the model_selection module into which all the refactored classes and functions are moved. Also note that the interface of the new CV iterators are different from that of this module. This module will be removed in 0.20.\n",
      "  \"This module will be removed in 0.20.\", DeprecationWarning)\n"
     ]
    }
   ],
   "source": [
    "import pandas as pd\n",
    "from sklearn.cross_validation import train_test_split\n",
    "from sklearn.ensemble import RandomForestClassifier\n",
    "from sklearn.datasets import make_classification\n",
    "#from sklearn.ensemble import DecisionTreeRegressor\n",
    "#from sklearn.tree import DecisionTreeClassifier\n",
    "from sklearn.metrics import classification_report\n",
    "from sklearn.metrics import accuracy_score\n",
    "import numpy as np\n",
    "import string\n",
    "import csv\n",
    "import sys\n",
    "\n",
    "#### RFC\n",
    "from sklearn.model_selection import train_test_split\n",
    "from sklearn.cross_validation import KFold\n",
    "#from sklearn.ensemble import RandomForestClassifier\n",
    "from sklearn import metrics"
   ]
  },
  {
   "cell_type": "code",
   "execution_count": 2,
   "metadata": {
    "collapsed": true
   },
   "outputs": [],
   "source": [
    "kdd_info = pd.read_csv('Mean-2016.csv')"
   ]
  },
  {
   "cell_type": "code",
   "execution_count": 3,
   "metadata": {},
   "outputs": [
    {
     "data": {
      "text/plain": [
       "province        3262\n",
       "city            3262\n",
       "city_code       3262\n",
       "station         3262\n",
       "station_code    3262\n",
       "aqi             3262\n",
       "so2_24h         3262\n",
       "no2_24h         3262\n",
       "co_24h          3262\n",
       "o3_24h          3262\n",
       "o3_8h_24h       3262\n",
       "pm2_5_24h       3262\n",
       "pm10_24h        3262\n",
       "pubtime         3262\n",
       "dtype: int64"
      ]
     },
     "execution_count": 3,
     "metadata": {},
     "output_type": "execute_result"
    }
   ],
   "source": [
    "kdd_info.head()\n",
    "kdd_info.count()"
   ]
  },
  {
   "cell_type": "code",
   "execution_count": 4,
   "metadata": {},
   "outputs": [
    {
     "data": {
      "text/html": [
       "<div>\n",
       "<style>\n",
       "    .dataframe thead tr:only-child th {\n",
       "        text-align: right;\n",
       "    }\n",
       "\n",
       "    .dataframe thead th {\n",
       "        text-align: left;\n",
       "    }\n",
       "\n",
       "    .dataframe tbody tr th {\n",
       "        vertical-align: top;\n",
       "    }\n",
       "</style>\n",
       "<table border=\"1\" class=\"dataframe\">\n",
       "  <thead>\n",
       "    <tr style=\"text-align: right;\">\n",
       "      <th></th>\n",
       "      <th>city_code</th>\n",
       "      <th>station_code</th>\n",
       "      <th>aqi</th>\n",
       "      <th>so2_24h</th>\n",
       "      <th>no2_24h</th>\n",
       "      <th>co_24h</th>\n",
       "      <th>o3_24h</th>\n",
       "      <th>o3_8h_24h</th>\n",
       "      <th>pm2_5_24h</th>\n",
       "      <th>pm10_24h</th>\n",
       "      <th>pubtime</th>\n",
       "    </tr>\n",
       "  </thead>\n",
       "  <tbody>\n",
       "    <tr>\n",
       "      <th>count</th>\n",
       "      <td>3262.0</td>\n",
       "      <td>3262.000000</td>\n",
       "      <td>3262.000000</td>\n",
       "      <td>3262.000000</td>\n",
       "      <td>3262.000000</td>\n",
       "      <td>3262.000000</td>\n",
       "      <td>3262.000000</td>\n",
       "      <td>3262.000000</td>\n",
       "      <td>3262.000000</td>\n",
       "      <td>3262.000000</td>\n",
       "      <td>3262.000000</td>\n",
       "    </tr>\n",
       "    <tr>\n",
       "      <th>mean</th>\n",
       "      <td>140100.0</td>\n",
       "      <td>1085.021153</td>\n",
       "      <td>89.063458</td>\n",
       "      <td>65.525138</td>\n",
       "      <td>42.598712</td>\n",
       "      <td>1.470230</td>\n",
       "      <td>93.976701</td>\n",
       "      <td>77.303495</td>\n",
       "      <td>63.246168</td>\n",
       "      <td>118.125690</td>\n",
       "      <td>42550.908645</td>\n",
       "    </tr>\n",
       "    <tr>\n",
       "      <th>std</th>\n",
       "      <td>0.0</td>\n",
       "      <td>2.579110</td>\n",
       "      <td>43.257854</td>\n",
       "      <td>69.686074</td>\n",
       "      <td>21.243320</td>\n",
       "      <td>0.806947</td>\n",
       "      <td>49.588748</td>\n",
       "      <td>42.436227</td>\n",
       "      <td>50.362066</td>\n",
       "      <td>72.454595</td>\n",
       "      <td>104.941176</td>\n",
       "    </tr>\n",
       "    <tr>\n",
       "      <th>min</th>\n",
       "      <td>140100.0</td>\n",
       "      <td>1081.000000</td>\n",
       "      <td>17.000000</td>\n",
       "      <td>2.000000</td>\n",
       "      <td>2.000000</td>\n",
       "      <td>0.137000</td>\n",
       "      <td>1.000000</td>\n",
       "      <td>1.000000</td>\n",
       "      <td>3.000000</td>\n",
       "      <td>7.000000</td>\n",
       "      <td>42370.000000</td>\n",
       "    </tr>\n",
       "    <tr>\n",
       "      <th>25%</th>\n",
       "      <td>140100.0</td>\n",
       "      <td>1083.000000</td>\n",
       "      <td>62.000000</td>\n",
       "      <td>21.000000</td>\n",
       "      <td>28.250000</td>\n",
       "      <td>0.904000</td>\n",
       "      <td>57.000000</td>\n",
       "      <td>44.250000</td>\n",
       "      <td>31.000000</td>\n",
       "      <td>69.000000</td>\n",
       "      <td>42460.000000</td>\n",
       "    </tr>\n",
       "    <tr>\n",
       "      <th>50%</th>\n",
       "      <td>140100.0</td>\n",
       "      <td>1085.000000</td>\n",
       "      <td>90.000000</td>\n",
       "      <td>44.000000</td>\n",
       "      <td>42.000000</td>\n",
       "      <td>1.345000</td>\n",
       "      <td>94.000000</td>\n",
       "      <td>77.000000</td>\n",
       "      <td>54.000000</td>\n",
       "      <td>111.000000</td>\n",
       "      <td>42551.000000</td>\n",
       "    </tr>\n",
       "    <tr>\n",
       "      <th>75%</th>\n",
       "      <td>140100.0</td>\n",
       "      <td>1087.000000</td>\n",
       "      <td>98.000000</td>\n",
       "      <td>74.000000</td>\n",
       "      <td>52.000000</td>\n",
       "      <td>1.737000</td>\n",
       "      <td>123.000000</td>\n",
       "      <td>102.000000</td>\n",
       "      <td>72.000000</td>\n",
       "      <td>141.000000</td>\n",
       "      <td>42641.000000</td>\n",
       "    </tr>\n",
       "    <tr>\n",
       "      <th>max</th>\n",
       "      <td>140100.0</td>\n",
       "      <td>1089.000000</td>\n",
       "      <td>361.000000</td>\n",
       "      <td>582.000000</td>\n",
       "      <td>141.000000</td>\n",
       "      <td>5.513000</td>\n",
       "      <td>303.000000</td>\n",
       "      <td>232.000000</td>\n",
       "      <td>414.000000</td>\n",
       "      <td>541.000000</td>\n",
       "      <td>42735.000000</td>\n",
       "    </tr>\n",
       "  </tbody>\n",
       "</table>\n",
       "</div>"
      ],
      "text/plain": [
       "       city_code  station_code          aqi      so2_24h      no2_24h  \\\n",
       "count     3262.0   3262.000000  3262.000000  3262.000000  3262.000000   \n",
       "mean    140100.0   1085.021153    89.063458    65.525138    42.598712   \n",
       "std          0.0      2.579110    43.257854    69.686074    21.243320   \n",
       "min     140100.0   1081.000000    17.000000     2.000000     2.000000   \n",
       "25%     140100.0   1083.000000    62.000000    21.000000    28.250000   \n",
       "50%     140100.0   1085.000000    90.000000    44.000000    42.000000   \n",
       "75%     140100.0   1087.000000    98.000000    74.000000    52.000000   \n",
       "max     140100.0   1089.000000   361.000000   582.000000   141.000000   \n",
       "\n",
       "            co_24h       o3_24h    o3_8h_24h    pm2_5_24h     pm10_24h  \\\n",
       "count  3262.000000  3262.000000  3262.000000  3262.000000  3262.000000   \n",
       "mean      1.470230    93.976701    77.303495    63.246168   118.125690   \n",
       "std       0.806947    49.588748    42.436227    50.362066    72.454595   \n",
       "min       0.137000     1.000000     1.000000     3.000000     7.000000   \n",
       "25%       0.904000    57.000000    44.250000    31.000000    69.000000   \n",
       "50%       1.345000    94.000000    77.000000    54.000000   111.000000   \n",
       "75%       1.737000   123.000000   102.000000    72.000000   141.000000   \n",
       "max       5.513000   303.000000   232.000000   414.000000   541.000000   \n",
       "\n",
       "            pubtime  \n",
       "count   3262.000000  \n",
       "mean   42550.908645  \n",
       "std      104.941176  \n",
       "min    42370.000000  \n",
       "25%    42460.000000  \n",
       "50%    42551.000000  \n",
       "75%    42641.000000  \n",
       "max    42735.000000  "
      ]
     },
     "execution_count": 4,
     "metadata": {},
     "output_type": "execute_result"
    }
   ],
   "source": [
    "kdd_info.describe()"
   ]
  },
  {
   "cell_type": "code",
   "execution_count": 5,
   "metadata": {},
   "outputs": [
    {
     "data": {
      "text/plain": [
       "city_code       3262\n",
       "station_code    3262\n",
       "aqi             3262\n",
       "so2_24h         3262\n",
       "no2_24h         3262\n",
       "co_24h          3262\n",
       "o3_24h          3262\n",
       "pm2_5_24h       3262\n",
       "pm10_24h        3262\n",
       "pubtime         3262\n",
       "dtype: int64"
      ]
     },
     "execution_count": 5,
     "metadata": {},
     "output_type": "execute_result"
    }
   ],
   "source": [
    "kdd_info.shape\n",
    "kdd_info.drop('station', axis=1, inplace=True)\n",
    "kdd_info.drop('city', axis=1, inplace=True)\n",
    "kdd_info.drop('province', axis=1, inplace=True)\n",
    "kdd_info.drop('o3_8h_24h', axis=1, inplace=True)\n",
    "kdd_info.count()"
   ]
  },
  {
   "cell_type": "code",
   "execution_count": 6,
   "metadata": {},
   "outputs": [
    {
     "data": {
      "text/plain": [
       "\"\\nfrom sklearn.preprocessing import Imputer\\n\\nimp = Imputer(missing_values='NaN', strategy='mean', axis=1)\\n#imputed_DF = pd.DataFrame(imp.fit_transform(kdd_info))\\nimputed_DF['aqi'] = pd.DataFrame(imp.fit_transform(imputed_DF['aqi']).ravel())\\nimputed_DF['so2_24h'] = pd.DataFrame(imp.fit_transform(imputed_DF['so2_24h']).ravel())\\nimputed_DF['no2_24h'] = pd.DataFrame(imp.fit_transform(imputed_DF['no2_24h']).ravel())\\nimputed_DF['co_24h'] = pd.DataFrame(imp.fit_transform(imputed_DF['co_24h']).ravel())\\nimputed_DF['o3_24h'] = pd.DataFrame(imp.fit_transform(imputed_DF['o3_24h']).ravel())\\nimputed_DF['pm2_5_24h'] = pd.DataFrame(imp.fit_transform(imputed_DF['pm2_5_24h']).ravel())\\nimputed_DF['pm10_24h'] = pd.DataFrame(imp.fit_transform(imputed_DF['pm10_24h']).ravel())\\n\\n#Converting float pubtime to DateTime format\\n#imputed_DF['pubtime'] = pd.to_datetime(imputed_DF['pubtime'], format='%m/%d/%Y')\\n#imputed_DF['pubtime'] = imputed_DF['pubtime'].dt.total_seconds()\\n\\nimputed_DF.columns = kdd_info.columns\\nimputed_DF.index = kdd_info.index\\nimputed_DF.count()\\nimputed_DF.count()\\n\\n#kdd_info.describe()\\n\""
      ]
     },
     "execution_count": 6,
     "metadata": {},
     "output_type": "execute_result"
    }
   ],
   "source": [
    "imputed_DF = kdd_info\n",
    "'''\n",
    "from sklearn.preprocessing import Imputer\n",
    "\n",
    "imp = Imputer(missing_values='NaN', strategy='mean', axis=1)\n",
    "#imputed_DF = pd.DataFrame(imp.fit_transform(kdd_info))\n",
    "imputed_DF['aqi'] = pd.DataFrame(imp.fit_transform(imputed_DF['aqi']).ravel())\n",
    "imputed_DF['so2_24h'] = pd.DataFrame(imp.fit_transform(imputed_DF['so2_24h']).ravel())\n",
    "imputed_DF['no2_24h'] = pd.DataFrame(imp.fit_transform(imputed_DF['no2_24h']).ravel())\n",
    "imputed_DF['co_24h'] = pd.DataFrame(imp.fit_transform(imputed_DF['co_24h']).ravel())\n",
    "imputed_DF['o3_24h'] = pd.DataFrame(imp.fit_transform(imputed_DF['o3_24h']).ravel())\n",
    "imputed_DF['pm2_5_24h'] = pd.DataFrame(imp.fit_transform(imputed_DF['pm2_5_24h']).ravel())\n",
    "imputed_DF['pm10_24h'] = pd.DataFrame(imp.fit_transform(imputed_DF['pm10_24h']).ravel())\n",
    "\n",
    "#Converting float pubtime to DateTime format\n",
    "#imputed_DF['pubtime'] = pd.to_datetime(imputed_DF['pubtime'], format='%m/%d/%Y')\n",
    "#imputed_DF['pubtime'] = imputed_DF['pubtime'].dt.total_seconds()\n",
    "\n",
    "imputed_DF.columns = kdd_info.columns\n",
    "imputed_DF.index = kdd_info.index\n",
    "imputed_DF.count()\n",
    "imputed_DF.count()\n",
    "\n",
    "#kdd_info.describe()\n",
    "'''"
   ]
  },
  {
   "cell_type": "code",
   "execution_count": 7,
   "metadata": {
    "collapsed": true
   },
   "outputs": [],
   "source": [
    "#train, test = train_test_split(imputed_DF, test_size = 0.2)\n",
    "\n",
    "train, test = train_test_split(imputed_DF, test_size = 0.3, random_state = 5)\n",
    "\n",
    "train.to_csv('new1_train_data.csv')\n",
    "test.to_csv('new_test_data.csv')"
   ]
  },
  {
   "cell_type": "code",
   "execution_count": 8,
   "metadata": {},
   "outputs": [
    {
     "data": {
      "text/plain": [
       "(2283, 10)"
      ]
     },
     "execution_count": 8,
     "metadata": {},
     "output_type": "execute_result"
    }
   ],
   "source": [
    "train.shape"
   ]
  },
  {
   "cell_type": "code",
   "execution_count": 9,
   "metadata": {},
   "outputs": [
    {
     "data": {
      "text/plain": [
       "(2283, 10)"
      ]
     },
     "execution_count": 9,
     "metadata": {},
     "output_type": "execute_result"
    }
   ],
   "source": [
    "train = train.dropna()\n",
    "train.shape"
   ]
  },
  {
   "cell_type": "code",
   "execution_count": 10,
   "metadata": {},
   "outputs": [
    {
     "data": {
      "text/html": [
       "<div>\n",
       "<style>\n",
       "    .dataframe thead tr:only-child th {\n",
       "        text-align: right;\n",
       "    }\n",
       "\n",
       "    .dataframe thead th {\n",
       "        text-align: left;\n",
       "    }\n",
       "\n",
       "    .dataframe tbody tr th {\n",
       "        vertical-align: top;\n",
       "    }\n",
       "</style>\n",
       "<table border=\"1\" class=\"dataframe\">\n",
       "  <thead>\n",
       "    <tr style=\"text-align: right;\">\n",
       "      <th></th>\n",
       "      <th>city_code</th>\n",
       "      <th>station_code</th>\n",
       "      <th>aqi</th>\n",
       "      <th>so2_24h</th>\n",
       "      <th>no2_24h</th>\n",
       "      <th>co_24h</th>\n",
       "      <th>o3_24h</th>\n",
       "      <th>pm2_5_24h</th>\n",
       "      <th>pm10_24h</th>\n",
       "      <th>pubtime</th>\n",
       "    </tr>\n",
       "  </thead>\n",
       "  <tbody>\n",
       "    <tr>\n",
       "      <th>3255</th>\n",
       "      <td>140100</td>\n",
       "      <td>1089</td>\n",
       "      <td>92</td>\n",
       "      <td>243</td>\n",
       "      <td>77</td>\n",
       "      <td>2.667</td>\n",
       "      <td>11</td>\n",
       "      <td>217</td>\n",
       "      <td>298</td>\n",
       "      <td>42729</td>\n",
       "    </tr>\n",
       "    <tr>\n",
       "      <th>87</th>\n",
       "      <td>140100</td>\n",
       "      <td>1089</td>\n",
       "      <td>69</td>\n",
       "      <td>190</td>\n",
       "      <td>55</td>\n",
       "      <td>2.490</td>\n",
       "      <td>72</td>\n",
       "      <td>46</td>\n",
       "      <td>85</td>\n",
       "      <td>42395</td>\n",
       "    </tr>\n",
       "    <tr>\n",
       "      <th>447</th>\n",
       "      <td>140100</td>\n",
       "      <td>1081</td>\n",
       "      <td>50</td>\n",
       "      <td>41</td>\n",
       "      <td>25</td>\n",
       "      <td>0.770</td>\n",
       "      <td>69</td>\n",
       "      <td>23</td>\n",
       "      <td>54</td>\n",
       "      <td>42425</td>\n",
       "    </tr>\n",
       "    <tr>\n",
       "      <th>1630</th>\n",
       "      <td>140100</td>\n",
       "      <td>1082</td>\n",
       "      <td>92</td>\n",
       "      <td>65</td>\n",
       "      <td>42</td>\n",
       "      <td>1.461</td>\n",
       "      <td>94</td>\n",
       "      <td>63</td>\n",
       "      <td>117</td>\n",
       "      <td>42551</td>\n",
       "    </tr>\n",
       "    <tr>\n",
       "      <th>3057</th>\n",
       "      <td>140100</td>\n",
       "      <td>1087</td>\n",
       "      <td>92</td>\n",
       "      <td>339</td>\n",
       "      <td>76</td>\n",
       "      <td>1.879</td>\n",
       "      <td>41</td>\n",
       "      <td>84</td>\n",
       "      <td>178</td>\n",
       "      <td>42710</td>\n",
       "    </tr>\n",
       "  </tbody>\n",
       "</table>\n",
       "</div>"
      ],
      "text/plain": [
       "      city_code  station_code  aqi  so2_24h  no2_24h  co_24h  o3_24h  \\\n",
       "3255     140100          1089   92      243       77   2.667      11   \n",
       "87       140100          1089   69      190       55   2.490      72   \n",
       "447      140100          1081   50       41       25   0.770      69   \n",
       "1630     140100          1082   92       65       42   1.461      94   \n",
       "3057     140100          1087   92      339       76   1.879      41   \n",
       "\n",
       "      pm2_5_24h  pm10_24h  pubtime  \n",
       "3255        217       298    42729  \n",
       "87           46        85    42395  \n",
       "447          23        54    42425  \n",
       "1630         63       117    42551  \n",
       "3057         84       178    42710  "
      ]
     },
     "execution_count": 10,
     "metadata": {},
     "output_type": "execute_result"
    }
   ],
   "source": [
    "train.head(5)"
   ]
  },
  {
   "cell_type": "code",
   "execution_count": 11,
   "metadata": {
    "scrolled": false
   },
   "outputs": [
    {
     "data": {
      "text/plain": [
       "Index(['city_code', 'station_code', 'aqi', 'so2_24h', 'no2_24h', 'co_24h',\n",
       "       'o3_24h', 'pm2_5_24h', 'pm10_24h', 'pubtime'],\n",
       "      dtype='object')"
      ]
     },
     "execution_count": 11,
     "metadata": {},
     "output_type": "execute_result"
    }
   ],
   "source": [
    "train.columns"
   ]
  },
  {
   "cell_type": "code",
   "execution_count": 12,
   "metadata": {},
   "outputs": [
    {
     "data": {
      "text/plain": [
       "aqi    2283\n",
       "dtype: int64"
      ]
     },
     "execution_count": 12,
     "metadata": {},
     "output_type": "execute_result"
    }
   ],
   "source": [
    "# creating response vector to train our model\n",
    "#response_vector=pd.DataFrame(np.array(train['aqi']),columns=['aqi'])\n",
    "response_vector=pd.DataFrame(train['aqi'],columns=['aqi'])\n",
    "response_vector.loc[response_vector['aqi']==1]\n",
    "response_vector.head(30)\n",
    "response_vector.count()"
   ]
  },
  {
   "cell_type": "code",
   "execution_count": 13,
   "metadata": {},
   "outputs": [
    {
     "data": {
      "text/html": [
       "<div>\n",
       "<style>\n",
       "    .dataframe thead tr:only-child th {\n",
       "        text-align: right;\n",
       "    }\n",
       "\n",
       "    .dataframe thead th {\n",
       "        text-align: left;\n",
       "    }\n",
       "\n",
       "    .dataframe tbody tr th {\n",
       "        vertical-align: top;\n",
       "    }\n",
       "</style>\n",
       "<table border=\"1\" class=\"dataframe\">\n",
       "  <thead>\n",
       "    <tr style=\"text-align: right;\">\n",
       "      <th></th>\n",
       "      <th>Unnamed: 0</th>\n",
       "      <th>city_code</th>\n",
       "      <th>station_code</th>\n",
       "      <th>aqi</th>\n",
       "      <th>so2_24h</th>\n",
       "      <th>no2_24h</th>\n",
       "      <th>co_24h</th>\n",
       "      <th>o3_24h</th>\n",
       "      <th>pm2_5_24h</th>\n",
       "      <th>pm10_24h</th>\n",
       "      <th>pubtime</th>\n",
       "    </tr>\n",
       "  </thead>\n",
       "  <tbody>\n",
       "    <tr>\n",
       "      <th>count</th>\n",
       "      <td>979.000000</td>\n",
       "      <td>979.0</td>\n",
       "      <td>979.000000</td>\n",
       "      <td>979.000000</td>\n",
       "      <td>979.000000</td>\n",
       "      <td>979.000000</td>\n",
       "      <td>979.000000</td>\n",
       "      <td>979.000000</td>\n",
       "      <td>979.000000</td>\n",
       "      <td>979.000000</td>\n",
       "      <td>979.000000</td>\n",
       "    </tr>\n",
       "    <tr>\n",
       "      <th>mean</th>\n",
       "      <td>1628.188968</td>\n",
       "      <td>140100.0</td>\n",
       "      <td>1084.908069</td>\n",
       "      <td>88.094995</td>\n",
       "      <td>65.139939</td>\n",
       "      <td>42.244127</td>\n",
       "      <td>1.463163</td>\n",
       "      <td>93.728294</td>\n",
       "      <td>63.219612</td>\n",
       "      <td>117.290092</td>\n",
       "      <td>42550.588355</td>\n",
       "    </tr>\n",
       "    <tr>\n",
       "      <th>std</th>\n",
       "      <td>939.381644</td>\n",
       "      <td>0.0</td>\n",
       "      <td>2.559662</td>\n",
       "      <td>44.810008</td>\n",
       "      <td>69.573223</td>\n",
       "      <td>22.265562</td>\n",
       "      <td>0.837014</td>\n",
       "      <td>51.511268</td>\n",
       "      <td>53.445592</td>\n",
       "      <td>75.776469</td>\n",
       "      <td>104.927792</td>\n",
       "    </tr>\n",
       "    <tr>\n",
       "      <th>min</th>\n",
       "      <td>0.000000</td>\n",
       "      <td>140100.0</td>\n",
       "      <td>1081.000000</td>\n",
       "      <td>18.000000</td>\n",
       "      <td>3.000000</td>\n",
       "      <td>2.000000</td>\n",
       "      <td>0.196000</td>\n",
       "      <td>1.000000</td>\n",
       "      <td>3.000000</td>\n",
       "      <td>7.000000</td>\n",
       "      <td>42370.000000</td>\n",
       "    </tr>\n",
       "    <tr>\n",
       "      <th>25%</th>\n",
       "      <td>823.500000</td>\n",
       "      <td>140100.0</td>\n",
       "      <td>1083.000000</td>\n",
       "      <td>59.000000</td>\n",
       "      <td>20.000000</td>\n",
       "      <td>27.000000</td>\n",
       "      <td>0.892000</td>\n",
       "      <td>55.000000</td>\n",
       "      <td>30.000000</td>\n",
       "      <td>67.000000</td>\n",
       "      <td>42461.500000</td>\n",
       "    </tr>\n",
       "    <tr>\n",
       "      <th>50%</th>\n",
       "      <td>1614.000000</td>\n",
       "      <td>140100.0</td>\n",
       "      <td>1085.000000</td>\n",
       "      <td>89.000000</td>\n",
       "      <td>43.000000</td>\n",
       "      <td>41.000000</td>\n",
       "      <td>1.289000</td>\n",
       "      <td>90.000000</td>\n",
       "      <td>52.000000</td>\n",
       "      <td>108.000000</td>\n",
       "      <td>42549.000000</td>\n",
       "    </tr>\n",
       "    <tr>\n",
       "      <th>75%</th>\n",
       "      <td>2427.000000</td>\n",
       "      <td>140100.0</td>\n",
       "      <td>1087.000000</td>\n",
       "      <td>98.000000</td>\n",
       "      <td>72.000000</td>\n",
       "      <td>52.000000</td>\n",
       "      <td>1.749000</td>\n",
       "      <td>124.000000</td>\n",
       "      <td>71.000000</td>\n",
       "      <td>142.000000</td>\n",
       "      <td>42639.000000</td>\n",
       "    </tr>\n",
       "    <tr>\n",
       "      <th>max</th>\n",
       "      <td>3261.000000</td>\n",
       "      <td>140100.0</td>\n",
       "      <td>1089.000000</td>\n",
       "      <td>361.000000</td>\n",
       "      <td>430.000000</td>\n",
       "      <td>141.000000</td>\n",
       "      <td>5.513000</td>\n",
       "      <td>273.000000</td>\n",
       "      <td>381.000000</td>\n",
       "      <td>541.000000</td>\n",
       "      <td>42735.000000</td>\n",
       "    </tr>\n",
       "  </tbody>\n",
       "</table>\n",
       "</div>"
      ],
      "text/plain": [
       "        Unnamed: 0  city_code  station_code         aqi     so2_24h  \\\n",
       "count   979.000000      979.0    979.000000  979.000000  979.000000   \n",
       "mean   1628.188968   140100.0   1084.908069   88.094995   65.139939   \n",
       "std     939.381644        0.0      2.559662   44.810008   69.573223   \n",
       "min       0.000000   140100.0   1081.000000   18.000000    3.000000   \n",
       "25%     823.500000   140100.0   1083.000000   59.000000   20.000000   \n",
       "50%    1614.000000   140100.0   1085.000000   89.000000   43.000000   \n",
       "75%    2427.000000   140100.0   1087.000000   98.000000   72.000000   \n",
       "max    3261.000000   140100.0   1089.000000  361.000000  430.000000   \n",
       "\n",
       "          no2_24h      co_24h      o3_24h   pm2_5_24h    pm10_24h  \\\n",
       "count  979.000000  979.000000  979.000000  979.000000  979.000000   \n",
       "mean    42.244127    1.463163   93.728294   63.219612  117.290092   \n",
       "std     22.265562    0.837014   51.511268   53.445592   75.776469   \n",
       "min      2.000000    0.196000    1.000000    3.000000    7.000000   \n",
       "25%     27.000000    0.892000   55.000000   30.000000   67.000000   \n",
       "50%     41.000000    1.289000   90.000000   52.000000  108.000000   \n",
       "75%     52.000000    1.749000  124.000000   71.000000  142.000000   \n",
       "max    141.000000    5.513000  273.000000  381.000000  541.000000   \n",
       "\n",
       "            pubtime  \n",
       "count    979.000000  \n",
       "mean   42550.588355  \n",
       "std      104.927792  \n",
       "min    42370.000000  \n",
       "25%    42461.500000  \n",
       "50%    42549.000000  \n",
       "75%    42639.000000  \n",
       "max    42735.000000  "
      ]
     },
     "execution_count": 13,
     "metadata": {},
     "output_type": "execute_result"
    }
   ],
   "source": [
    "test_df1=pd.read_csv('new_test_data.csv')\n",
    "test_df1.describe()"
   ]
  },
  {
   "cell_type": "code",
   "execution_count": 14,
   "metadata": {},
   "outputs": [
    {
     "data": {
      "text/plain": [
       "(2283, 10)"
      ]
     },
     "execution_count": 14,
     "metadata": {},
     "output_type": "execute_result"
    }
   ],
   "source": [
    "#train.drop('aqi',axis=1, inplace=True)\n",
    "train.shape"
   ]
  },
  {
   "cell_type": "code",
   "execution_count": 15,
   "metadata": {},
   "outputs": [
    {
     "data": {
      "text/html": [
       "<div>\n",
       "<style>\n",
       "    .dataframe thead tr:only-child th {\n",
       "        text-align: right;\n",
       "    }\n",
       "\n",
       "    .dataframe thead th {\n",
       "        text-align: left;\n",
       "    }\n",
       "\n",
       "    .dataframe tbody tr th {\n",
       "        vertical-align: top;\n",
       "    }\n",
       "</style>\n",
       "<table border=\"1\" class=\"dataframe\">\n",
       "  <thead>\n",
       "    <tr style=\"text-align: right;\">\n",
       "      <th></th>\n",
       "      <th>city_code</th>\n",
       "      <th>station_code</th>\n",
       "      <th>aqi</th>\n",
       "      <th>so2_24h</th>\n",
       "      <th>no2_24h</th>\n",
       "      <th>co_24h</th>\n",
       "      <th>o3_24h</th>\n",
       "      <th>pm2_5_24h</th>\n",
       "      <th>pm10_24h</th>\n",
       "      <th>pubtime</th>\n",
       "    </tr>\n",
       "  </thead>\n",
       "  <tbody>\n",
       "    <tr>\n",
       "      <th>3255</th>\n",
       "      <td>140100</td>\n",
       "      <td>1089</td>\n",
       "      <td>92</td>\n",
       "      <td>243</td>\n",
       "      <td>77</td>\n",
       "      <td>2.667</td>\n",
       "      <td>11</td>\n",
       "      <td>217</td>\n",
       "      <td>298</td>\n",
       "      <td>42729</td>\n",
       "    </tr>\n",
       "    <tr>\n",
       "      <th>87</th>\n",
       "      <td>140100</td>\n",
       "      <td>1089</td>\n",
       "      <td>69</td>\n",
       "      <td>190</td>\n",
       "      <td>55</td>\n",
       "      <td>2.490</td>\n",
       "      <td>72</td>\n",
       "      <td>46</td>\n",
       "      <td>85</td>\n",
       "      <td>42395</td>\n",
       "    </tr>\n",
       "    <tr>\n",
       "      <th>447</th>\n",
       "      <td>140100</td>\n",
       "      <td>1081</td>\n",
       "      <td>50</td>\n",
       "      <td>41</td>\n",
       "      <td>25</td>\n",
       "      <td>0.770</td>\n",
       "      <td>69</td>\n",
       "      <td>23</td>\n",
       "      <td>54</td>\n",
       "      <td>42425</td>\n",
       "    </tr>\n",
       "    <tr>\n",
       "      <th>1630</th>\n",
       "      <td>140100</td>\n",
       "      <td>1082</td>\n",
       "      <td>92</td>\n",
       "      <td>65</td>\n",
       "      <td>42</td>\n",
       "      <td>1.461</td>\n",
       "      <td>94</td>\n",
       "      <td>63</td>\n",
       "      <td>117</td>\n",
       "      <td>42551</td>\n",
       "    </tr>\n",
       "    <tr>\n",
       "      <th>3057</th>\n",
       "      <td>140100</td>\n",
       "      <td>1087</td>\n",
       "      <td>92</td>\n",
       "      <td>339</td>\n",
       "      <td>76</td>\n",
       "      <td>1.879</td>\n",
       "      <td>41</td>\n",
       "      <td>84</td>\n",
       "      <td>178</td>\n",
       "      <td>42710</td>\n",
       "    </tr>\n",
       "  </tbody>\n",
       "</table>\n",
       "</div>"
      ],
      "text/plain": [
       "      city_code  station_code  aqi  so2_24h  no2_24h  co_24h  o3_24h  \\\n",
       "3255     140100          1089   92      243       77   2.667      11   \n",
       "87       140100          1089   69      190       55   2.490      72   \n",
       "447      140100          1081   50       41       25   0.770      69   \n",
       "1630     140100          1082   92       65       42   1.461      94   \n",
       "3057     140100          1087   92      339       76   1.879      41   \n",
       "\n",
       "      pm2_5_24h  pm10_24h  pubtime  \n",
       "3255        217       298    42729  \n",
       "87           46        85    42395  \n",
       "447          23        54    42425  \n",
       "1630         63       117    42551  \n",
       "3057         84       178    42710  "
      ]
     },
     "execution_count": 15,
     "metadata": {},
     "output_type": "execute_result"
    }
   ],
   "source": [
    "train.head(5)"
   ]
  },
  {
   "cell_type": "code",
   "execution_count": 16,
   "metadata": {},
   "outputs": [
    {
     "data": {
      "text/plain": [
       "Index(['city_code', 'station_code', 'aqi', 'so2_24h', 'no2_24h', 'co_24h',\n",
       "       'o3_24h', 'pm2_5_24h', 'pm10_24h', 'pubtime'],\n",
       "      dtype='object')"
      ]
     },
     "execution_count": 16,
     "metadata": {},
     "output_type": "execute_result"
    }
   ],
   "source": [
    "test.columns"
   ]
  },
  {
   "cell_type": "code",
   "execution_count": 17,
   "metadata": {},
   "outputs": [
    {
     "name": "stderr",
     "output_type": "stream",
     "text": [
      "C:\\Users\\Sohrab-PC\\Anaconda3\\lib\\site-packages\\ipykernel_launcher.py:1: SettingWithCopyWarning: \n",
      "A value is trying to be set on a copy of a slice from a DataFrame\n",
      "\n",
      "See the caveats in the documentation: http://pandas.pydata.org/pandas-docs/stable/indexing.html#indexing-view-versus-copy\n",
      "  \"\"\"Entry point for launching an IPython kernel.\n"
     ]
    },
    {
     "data": {
      "text/plain": [
       "(979, 9)"
      ]
     },
     "execution_count": 17,
     "metadata": {},
     "output_type": "execute_result"
    }
   ],
   "source": [
    "test.drop('aqi',axis=1, inplace=True)\n",
    "test.shape"
   ]
  },
  {
   "cell_type": "code",
   "execution_count": 18,
   "metadata": {},
   "outputs": [
    {
     "name": "stdout",
     "output_type": "stream",
     "text": [
      "Random Forest: Using all relevant features(Training data)\n"
     ]
    }
   ],
   "source": [
    "model = RandomForestClassifier(n_estimators=100,min_samples_split=25)\n",
    "print (\"Random Forest: Using all relevant features(Training data)\")"
   ]
  },
  {
   "cell_type": "code",
   "execution_count": 19,
   "metadata": {},
   "outputs": [
    {
     "data": {
      "text/plain": [
       "RandomForestClassifier(bootstrap=True, class_weight=None, criterion='gini',\n",
       "            max_depth=None, max_features='auto', max_leaf_nodes=None,\n",
       "            min_impurity_split=1e-07, min_samples_leaf=1,\n",
       "            min_samples_split=25, min_weight_fraction_leaf=0.0,\n",
       "            n_estimators=100, n_jobs=1, oob_score=False, random_state=None,\n",
       "            verbose=0, warm_start=False)"
      ]
     },
     "execution_count": 19,
     "metadata": {},
     "output_type": "execute_result"
    }
   ],
   "source": [
    "from sklearn import utils\n",
    "Y_train = np.asarray(train['aqi'], dtype=\"|S8\")\n",
    "#print(utils.multiclass.type_of_target(Y_train))\n",
    "#print(utils.multiclass.type_of_target(train.aqi))\n",
    "train.drop('aqi',axis=1, inplace=True)\n",
    "#print(Y_train)\n",
    "#print(train)\n",
    "model.fit(train,Y_train)"
   ]
  },
  {
   "cell_type": "code",
   "execution_count": 20,
   "metadata": {
    "collapsed": true
   },
   "outputs": [],
   "source": [
    "predictions = model.predict(test)\n",
    "#print(predictions)\n",
    "#print(test_df1.aqi)"
   ]
  },
  {
   "cell_type": "code",
   "execution_count": 21,
   "metadata": {
    "collapsed": true
   },
   "outputs": [],
   "source": [
    "newarray = np.asarray(test_df1['aqi'], dtype=\"|S8\")\n",
    "#print(newarray)"
   ]
  },
  {
   "cell_type": "code",
   "execution_count": 22,
   "metadata": {},
   "outputs": [
    {
     "name": "stdout",
     "output_type": "stream",
     "text": [
      "Accuracy over Testing Data: 27.477%\n"
     ]
    }
   ],
   "source": [
    "# Print accuracy\n",
    "accuracy = metrics.accuracy_score(predictions, newarray,  normalize=True)\n",
    "print(\"Accuracy over Testing Data: %s\" % \"{0:.3%}\".format(accuracy))"
   ]
  },
  {
   "cell_type": "code",
   "execution_count": 23,
   "metadata": {},
   "outputs": [
    {
     "data": {
      "text/plain": [
       "0.27477017364657813"
      ]
     },
     "execution_count": 23,
     "metadata": {},
     "output_type": "execute_result"
    }
   ],
   "source": [
    "#predict_rfc =rfc.predict(test)\n",
    "from sklearn.metrics import f1_score\n",
    "f1_score(newarray, predictions, average='micro')"
   ]
  },
  {
   "cell_type": "code",
   "execution_count": 24,
   "metadata": {},
   "outputs": [
    {
     "name": "stdout",
     "output_type": "stream",
     "text": [
      "93.84576098059244\n",
      "94.4508608363\n"
     ]
    }
   ],
   "source": [
    "c=0\n",
    "import math\n",
    "predictionsArr = np.asarray(predictions, dtype=\"|f8\")\n",
    "realArr = np.asarray(newarray, dtype=\"|f8\")\n",
    "\n",
    "for x in range(0,len(predictionsArr)):\n",
    "    c += math.fabs((predictionsArr[x]-realArr[x]))\n",
    "print(100 - c/len(predictions))\n",
    "c=0\n",
    "for x in range(0,len(predictionsArr)):\n",
    "    c += (math.fabs((predictionsArr[x]-realArr[x]))/realArr[x])*100\n",
    "print(100 - c/len(predictions))\n"
   ]
  }
 ],
 "metadata": {
  "anaconda-cloud": {},
  "kernelspec": {
   "display_name": "Python 2",
   "language": "python",
   "name": "python2"
  },
  "language_info": {
   "codemirror_mode": {
    "name": "ipython",
    "version": 2
   },
   "file_extension": ".py",
   "mimetype": "text/x-python",
   "name": "python",
   "nbconvert_exporter": "python",
   "pygments_lexer": "ipython2",
   "version": "2.7.11"
  }
 },
 "nbformat": 4,
 "nbformat_minor": 1
}
