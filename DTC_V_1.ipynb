{
 "cells": [
  {
   "cell_type": "code",
   "execution_count": 1,
   "metadata": {},
   "outputs": [
    {
     "name": "stderr",
     "output_type": "stream",
     "text": [
      "C:\\Users\\Sohrab-PC\\Anaconda3\\lib\\site-packages\\sklearn\\cross_validation.py:44: DeprecationWarning: This module was deprecated in version 0.18 in favor of the model_selection module into which all the refactored classes and functions are moved. Also note that the interface of the new CV iterators are different from that of this module. This module will be removed in 0.20.\n",
      "  \"This module will be removed in 0.20.\", DeprecationWarning)\n"
     ]
    }
   ],
   "source": [
    "import pandas as pd\n",
    "from sklearn.cross_validation import train_test_split\n",
    "from sklearn.datasets import make_classification\n",
    "#from sklearn.ensemble import DecisionTreeRegressor\n",
    "from sklearn.metrics import classification_report\n",
    "from sklearn.metrics import accuracy_score\n",
    "import numpy as np\n",
    "import string\n",
    "import csv\n",
    "import sys"
   ]
  },
  {
   "cell_type": "code",
   "execution_count": 2,
   "metadata": {
    "collapsed": true
   },
   "outputs": [],
   "source": [
    "kdd_info = pd.read_csv('Shanxi-station_day-Taiyuan.csv')"
   ]
  },
  {
   "cell_type": "code",
   "execution_count": 3,
   "metadata": {},
   "outputs": [
    {
     "data": {
      "text/plain": [
       "province        2904\n",
       "city            2904\n",
       "city_code       2904\n",
       "station         2904\n",
       "station code    2904\n",
       "aqi             2904\n",
       "so2_24h         2904\n",
       "no2_24h         2904\n",
       "co_24h          2904\n",
       "o3_24h          2904\n",
       "o3_8h_24h       2904\n",
       "pm2_5_24h       2904\n",
       "pm10_24h        2904\n",
       "Weekday         2904\n",
       "Month           2904\n",
       "Date            2904\n",
       "Year            2904\n",
       "dtype: int64"
      ]
     },
     "execution_count": 3,
     "metadata": {},
     "output_type": "execute_result"
    }
   ],
   "source": [
    "kdd_info.head()\n",
    "kdd_info.count()"
   ]
  },
  {
   "cell_type": "code",
   "execution_count": 4,
   "metadata": {},
   "outputs": [
    {
     "data": {
      "text/html": [
       "<div>\n",
       "<style>\n",
       "    .dataframe thead tr:only-child th {\n",
       "        text-align: right;\n",
       "    }\n",
       "\n",
       "    .dataframe thead th {\n",
       "        text-align: left;\n",
       "    }\n",
       "\n",
       "    .dataframe tbody tr th {\n",
       "        vertical-align: top;\n",
       "    }\n",
       "</style>\n",
       "<table border=\"1\" class=\"dataframe\">\n",
       "  <thead>\n",
       "    <tr style=\"text-align: right;\">\n",
       "      <th></th>\n",
       "      <th>city_code</th>\n",
       "      <th>station code</th>\n",
       "      <th>aqi</th>\n",
       "      <th>so2_24h</th>\n",
       "      <th>no2_24h</th>\n",
       "      <th>co_24h</th>\n",
       "      <th>o3_24h</th>\n",
       "      <th>o3_8h_24h</th>\n",
       "      <th>pm2_5_24h</th>\n",
       "      <th>pm10_24h</th>\n",
       "      <th>Weekday</th>\n",
       "      <th>Month</th>\n",
       "      <th>Date</th>\n",
       "      <th>Year</th>\n",
       "    </tr>\n",
       "  </thead>\n",
       "  <tbody>\n",
       "    <tr>\n",
       "      <th>count</th>\n",
       "      <td>2904.0</td>\n",
       "      <td>2904.000000</td>\n",
       "      <td>2904.000000</td>\n",
       "      <td>2904.00000</td>\n",
       "      <td>2904.000000</td>\n",
       "      <td>2904.000000</td>\n",
       "      <td>2904.000000</td>\n",
       "      <td>2904.000000</td>\n",
       "      <td>2904.000000</td>\n",
       "      <td>2904.000000</td>\n",
       "      <td>2904.000000</td>\n",
       "      <td>2904.000000</td>\n",
       "      <td>2904.000000</td>\n",
       "      <td>2904.0</td>\n",
       "    </tr>\n",
       "    <tr>\n",
       "      <th>mean</th>\n",
       "      <td>140100.0</td>\n",
       "      <td>1085.375000</td>\n",
       "      <td>87.681939</td>\n",
       "      <td>65.59022</td>\n",
       "      <td>42.662879</td>\n",
       "      <td>1.470663</td>\n",
       "      <td>94.056474</td>\n",
       "      <td>77.408402</td>\n",
       "      <td>63.299242</td>\n",
       "      <td>118.204545</td>\n",
       "      <td>0.716253</td>\n",
       "      <td>6.476584</td>\n",
       "      <td>15.694215</td>\n",
       "      <td>2016.0</td>\n",
       "    </tr>\n",
       "    <tr>\n",
       "      <th>std</th>\n",
       "      <td>0.0</td>\n",
       "      <td>2.497303</td>\n",
       "      <td>46.183062</td>\n",
       "      <td>73.84401</td>\n",
       "      <td>22.496120</td>\n",
       "      <td>0.854661</td>\n",
       "      <td>52.518660</td>\n",
       "      <td>44.942860</td>\n",
       "      <td>53.357615</td>\n",
       "      <td>76.709725</td>\n",
       "      <td>0.450893</td>\n",
       "      <td>3.441775</td>\n",
       "      <td>8.812833</td>\n",
       "      <td>0.0</td>\n",
       "    </tr>\n",
       "    <tr>\n",
       "      <th>min</th>\n",
       "      <td>140100.0</td>\n",
       "      <td>1081.000000</td>\n",
       "      <td>17.000000</td>\n",
       "      <td>2.00000</td>\n",
       "      <td>2.000000</td>\n",
       "      <td>0.137000</td>\n",
       "      <td>1.000000</td>\n",
       "      <td>1.000000</td>\n",
       "      <td>3.000000</td>\n",
       "      <td>7.000000</td>\n",
       "      <td>0.000000</td>\n",
       "      <td>1.000000</td>\n",
       "      <td>1.000000</td>\n",
       "      <td>2016.0</td>\n",
       "    </tr>\n",
       "    <tr>\n",
       "      <th>25%</th>\n",
       "      <td>140100.0</td>\n",
       "      <td>1083.750000</td>\n",
       "      <td>58.000000</td>\n",
       "      <td>19.00000</td>\n",
       "      <td>27.000000</td>\n",
       "      <td>0.862000</td>\n",
       "      <td>53.000000</td>\n",
       "      <td>41.000000</td>\n",
       "      <td>29.000000</td>\n",
       "      <td>64.000000</td>\n",
       "      <td>0.000000</td>\n",
       "      <td>3.000000</td>\n",
       "      <td>8.000000</td>\n",
       "      <td>2016.0</td>\n",
       "    </tr>\n",
       "    <tr>\n",
       "      <th>50%</th>\n",
       "      <td>140100.0</td>\n",
       "      <td>1085.500000</td>\n",
       "      <td>79.720000</td>\n",
       "      <td>37.00000</td>\n",
       "      <td>39.000000</td>\n",
       "      <td>1.242000</td>\n",
       "      <td>85.000000</td>\n",
       "      <td>73.000000</td>\n",
       "      <td>48.000000</td>\n",
       "      <td>102.000000</td>\n",
       "      <td>1.000000</td>\n",
       "      <td>6.000000</td>\n",
       "      <td>16.000000</td>\n",
       "      <td>2016.0</td>\n",
       "    </tr>\n",
       "    <tr>\n",
       "      <th>75%</th>\n",
       "      <td>140100.0</td>\n",
       "      <td>1087.250000</td>\n",
       "      <td>103.000000</td>\n",
       "      <td>82.00000</td>\n",
       "      <td>55.000000</td>\n",
       "      <td>1.848000</td>\n",
       "      <td>128.000000</td>\n",
       "      <td>107.000000</td>\n",
       "      <td>78.000000</td>\n",
       "      <td>149.000000</td>\n",
       "      <td>1.000000</td>\n",
       "      <td>9.000000</td>\n",
       "      <td>23.000000</td>\n",
       "      <td>2016.0</td>\n",
       "    </tr>\n",
       "    <tr>\n",
       "      <th>max</th>\n",
       "      <td>140100.0</td>\n",
       "      <td>1089.000000</td>\n",
       "      <td>361.000000</td>\n",
       "      <td>582.00000</td>\n",
       "      <td>141.000000</td>\n",
       "      <td>5.513000</td>\n",
       "      <td>303.000000</td>\n",
       "      <td>232.000000</td>\n",
       "      <td>414.000000</td>\n",
       "      <td>541.000000</td>\n",
       "      <td>1.000000</td>\n",
       "      <td>12.000000</td>\n",
       "      <td>31.000000</td>\n",
       "      <td>2016.0</td>\n",
       "    </tr>\n",
       "  </tbody>\n",
       "</table>\n",
       "</div>"
      ],
      "text/plain": [
       "       city_code  station code          aqi     so2_24h      no2_24h  \\\n",
       "count     2904.0   2904.000000  2904.000000  2904.00000  2904.000000   \n",
       "mean    140100.0   1085.375000    87.681939    65.59022    42.662879   \n",
       "std          0.0      2.497303    46.183062    73.84401    22.496120   \n",
       "min     140100.0   1081.000000    17.000000     2.00000     2.000000   \n",
       "25%     140100.0   1083.750000    58.000000    19.00000    27.000000   \n",
       "50%     140100.0   1085.500000    79.720000    37.00000    39.000000   \n",
       "75%     140100.0   1087.250000   103.000000    82.00000    55.000000   \n",
       "max     140100.0   1089.000000   361.000000   582.00000   141.000000   \n",
       "\n",
       "            co_24h       o3_24h    o3_8h_24h    pm2_5_24h     pm10_24h  \\\n",
       "count  2904.000000  2904.000000  2904.000000  2904.000000  2904.000000   \n",
       "mean      1.470663    94.056474    77.408402    63.299242   118.204545   \n",
       "std       0.854661    52.518660    44.942860    53.357615    76.709725   \n",
       "min       0.137000     1.000000     1.000000     3.000000     7.000000   \n",
       "25%       0.862000    53.000000    41.000000    29.000000    64.000000   \n",
       "50%       1.242000    85.000000    73.000000    48.000000   102.000000   \n",
       "75%       1.848000   128.000000   107.000000    78.000000   149.000000   \n",
       "max       5.513000   303.000000   232.000000   414.000000   541.000000   \n",
       "\n",
       "           Weekday        Month         Date    Year  \n",
       "count  2904.000000  2904.000000  2904.000000  2904.0  \n",
       "mean      0.716253     6.476584    15.694215  2016.0  \n",
       "std       0.450893     3.441775     8.812833     0.0  \n",
       "min       0.000000     1.000000     1.000000  2016.0  \n",
       "25%       0.000000     3.000000     8.000000  2016.0  \n",
       "50%       1.000000     6.000000    16.000000  2016.0  \n",
       "75%       1.000000     9.000000    23.000000  2016.0  \n",
       "max       1.000000    12.000000    31.000000  2016.0  "
      ]
     },
     "execution_count": 4,
     "metadata": {},
     "output_type": "execute_result"
    }
   ],
   "source": [
    "kdd_info.describe()"
   ]
  },
  {
   "cell_type": "code",
   "execution_count": 5,
   "metadata": {},
   "outputs": [
    {
     "data": {
      "text/plain": [
       "city_code       2904\n",
       "station code    2904\n",
       "aqi             2904\n",
       "so2_24h         2904\n",
       "no2_24h         2904\n",
       "co_24h          2904\n",
       "o3_24h          2904\n",
       "pm2_5_24h       2904\n",
       "pm10_24h        2904\n",
       "Weekday         2904\n",
       "Month           2904\n",
       "Date            2904\n",
       "Year            2904\n",
       "dtype: int64"
      ]
     },
     "execution_count": 5,
     "metadata": {},
     "output_type": "execute_result"
    }
   ],
   "source": [
    "kdd_info.shape\n",
    "#train.drop('aqi',axis=1, inplace=True)\n",
    "#kdd_info.drop('pubtime', axis=1, inplace=True)\n",
    "#kdd_info.drop('city_code', axis=1, inplace=True)\n",
    "#kdd_info.drop('station_code', axis=1, inplace=True)\n",
    "kdd_info.drop('station', axis=1, inplace=True)\n",
    "kdd_info.drop('city', axis=1, inplace=True)\n",
    "kdd_info.drop('province', axis=1, inplace=True)\n",
    "kdd_info.drop('o3_8h_24h', axis=1, inplace=True)\n",
    "kdd_info.count()"
   ]
  },
  {
   "cell_type": "code",
   "execution_count": 6,
   "metadata": {},
   "outputs": [
    {
     "data": {
      "text/plain": [
       "\"\\nfrom sklearn.preprocessing import Imputer\\n\\nimp = Imputer(missing_values='NaN', strategy='mean', axis=1)\\n#imputed_DF = pd.DataFrame(imp.fit_transform(kdd_info))\\nimputed_DF['aqi'] = pd.DataFrame(imp.fit_transform(imputed_DF['aqi']).ravel())\\nimputed_DF['so2_24h'] = pd.DataFrame(imp.fit_transform(imputed_DF['so2_24h']).ravel())\\nimputed_DF['no2_24h'] = pd.DataFrame(imp.fit_transform(imputed_DF['no2_24h']).ravel())\\nimputed_DF['co_24h'] = pd.DataFrame(imp.fit_transform(imputed_DF['co_24h']).ravel())\\nimputed_DF['o3_24h'] = pd.DataFrame(imp.fit_transform(imputed_DF['o3_24h']).ravel())\\nimputed_DF['pm2_5_24h'] = pd.DataFrame(imp.fit_transform(imputed_DF['pm2_5_24h']).ravel())\\nimputed_DF['pm10_24h'] = pd.DataFrame(imp.fit_transform(imputed_DF['pm10_24h']).ravel())\\n\\n#Converting float pubtime to DateTime format\\n#imputed_DF['pubtime'] = pd.to_datetime(imputed_DF['pubtime'], format='%m/%d/%Y')\\n#imputed_DF['pubtime'] = imputed_DF['pubtime'].dt.total_seconds()\\n\\nimputed_DF.columns = kdd_info.columns\\nimputed_DF.index = kdd_info.index\\nimputed_DF.count()\\nimputed_DF.count()\\n\\n#kdd_info.describe()\\n\""
      ]
     },
     "execution_count": 6,
     "metadata": {},
     "output_type": "execute_result"
    }
   ],
   "source": [
    "imputed_DF = kdd_info\n",
    "'''\n",
    "from sklearn.preprocessing import Imputer\n",
    "\n",
    "imp = Imputer(missing_values='NaN', strategy='mean', axis=1)\n",
    "#imputed_DF = pd.DataFrame(imp.fit_transform(kdd_info))\n",
    "imputed_DF['aqi'] = pd.DataFrame(imp.fit_transform(imputed_DF['aqi']).ravel())\n",
    "imputed_DF['so2_24h'] = pd.DataFrame(imp.fit_transform(imputed_DF['so2_24h']).ravel())\n",
    "imputed_DF['no2_24h'] = pd.DataFrame(imp.fit_transform(imputed_DF['no2_24h']).ravel())\n",
    "imputed_DF['co_24h'] = pd.DataFrame(imp.fit_transform(imputed_DF['co_24h']).ravel())\n",
    "imputed_DF['o3_24h'] = pd.DataFrame(imp.fit_transform(imputed_DF['o3_24h']).ravel())\n",
    "imputed_DF['pm2_5_24h'] = pd.DataFrame(imp.fit_transform(imputed_DF['pm2_5_24h']).ravel())\n",
    "imputed_DF['pm10_24h'] = pd.DataFrame(imp.fit_transform(imputed_DF['pm10_24h']).ravel())\n",
    "\n",
    "#Converting float pubtime to DateTime format\n",
    "#imputed_DF['pubtime'] = pd.to_datetime(imputed_DF['pubtime'], format='%m/%d/%Y')\n",
    "#imputed_DF['pubtime'] = imputed_DF['pubtime'].dt.total_seconds()\n",
    "\n",
    "imputed_DF.columns = kdd_info.columns\n",
    "imputed_DF.index = kdd_info.index\n",
    "imputed_DF.count()\n",
    "imputed_DF.count()\n",
    "\n",
    "#kdd_info.describe()\n",
    "'''"
   ]
  },
  {
   "cell_type": "code",
   "execution_count": 7,
   "metadata": {
    "collapsed": true
   },
   "outputs": [],
   "source": [
    "train, test = train_test_split(imputed_DF, test_size = 0.3)\n",
    "\n",
    "train.to_csv('new1_train_data.csv')\n",
    "test.to_csv('new_test_data.csv')"
   ]
  },
  {
   "cell_type": "code",
   "execution_count": 8,
   "metadata": {},
   "outputs": [
    {
     "data": {
      "text/plain": [
       "(2032, 13)"
      ]
     },
     "execution_count": 8,
     "metadata": {},
     "output_type": "execute_result"
    }
   ],
   "source": [
    "train.shape"
   ]
  },
  {
   "cell_type": "code",
   "execution_count": 9,
   "metadata": {},
   "outputs": [
    {
     "data": {
      "text/plain": [
       "(2032, 13)"
      ]
     },
     "execution_count": 9,
     "metadata": {},
     "output_type": "execute_result"
    }
   ],
   "source": [
    "train = train.dropna()\n",
    "train.shape"
   ]
  },
  {
   "cell_type": "code",
   "execution_count": 10,
   "metadata": {},
   "outputs": [
    {
     "data": {
      "text/html": [
       "<div>\n",
       "<style>\n",
       "    .dataframe thead tr:only-child th {\n",
       "        text-align: right;\n",
       "    }\n",
       "\n",
       "    .dataframe thead th {\n",
       "        text-align: left;\n",
       "    }\n",
       "\n",
       "    .dataframe tbody tr th {\n",
       "        vertical-align: top;\n",
       "    }\n",
       "</style>\n",
       "<table border=\"1\" class=\"dataframe\">\n",
       "  <thead>\n",
       "    <tr style=\"text-align: right;\">\n",
       "      <th></th>\n",
       "      <th>city_code</th>\n",
       "      <th>station code</th>\n",
       "      <th>aqi</th>\n",
       "      <th>so2_24h</th>\n",
       "      <th>no2_24h</th>\n",
       "      <th>co_24h</th>\n",
       "      <th>o3_24h</th>\n",
       "      <th>pm2_5_24h</th>\n",
       "      <th>pm10_24h</th>\n",
       "      <th>Weekday</th>\n",
       "      <th>Month</th>\n",
       "      <th>Date</th>\n",
       "      <th>Year</th>\n",
       "    </tr>\n",
       "  </thead>\n",
       "  <tbody>\n",
       "    <tr>\n",
       "      <th>1383</th>\n",
       "      <td>140100</td>\n",
       "      <td>1089</td>\n",
       "      <td>66.00</td>\n",
       "      <td>24</td>\n",
       "      <td>46</td>\n",
       "      <td>1.190</td>\n",
       "      <td>205</td>\n",
       "      <td>30</td>\n",
       "      <td>74</td>\n",
       "      <td>1</td>\n",
       "      <td>6</td>\n",
       "      <td>21</td>\n",
       "      <td>2016</td>\n",
       "    </tr>\n",
       "    <tr>\n",
       "      <th>2790</th>\n",
       "      <td>140100</td>\n",
       "      <td>1085</td>\n",
       "      <td>82.83</td>\n",
       "      <td>283</td>\n",
       "      <td>93</td>\n",
       "      <td>3.512</td>\n",
       "      <td>16</td>\n",
       "      <td>182</td>\n",
       "      <td>253</td>\n",
       "      <td>0</td>\n",
       "      <td>12</td>\n",
       "      <td>10</td>\n",
       "      <td>2016</td>\n",
       "    </tr>\n",
       "    <tr>\n",
       "      <th>2854</th>\n",
       "      <td>140100</td>\n",
       "      <td>1087</td>\n",
       "      <td>68.73</td>\n",
       "      <td>116</td>\n",
       "      <td>47</td>\n",
       "      <td>1.700</td>\n",
       "      <td>52</td>\n",
       "      <td>63</td>\n",
       "      <td>134</td>\n",
       "      <td>1</td>\n",
       "      <td>12</td>\n",
       "      <td>28</td>\n",
       "      <td>2016</td>\n",
       "    </tr>\n",
       "    <tr>\n",
       "      <th>426</th>\n",
       "      <td>140100</td>\n",
       "      <td>1085</td>\n",
       "      <td>48.00</td>\n",
       "      <td>27</td>\n",
       "      <td>14</td>\n",
       "      <td>0.764</td>\n",
       "      <td>54</td>\n",
       "      <td>19</td>\n",
       "      <td>56</td>\n",
       "      <td>0</td>\n",
       "      <td>2</td>\n",
       "      <td>20</td>\n",
       "      <td>2016</td>\n",
       "    </tr>\n",
       "    <tr>\n",
       "      <th>1461</th>\n",
       "      <td>140100</td>\n",
       "      <td>1087</td>\n",
       "      <td>71.00</td>\n",
       "      <td>15</td>\n",
       "      <td>43</td>\n",
       "      <td>1.249</td>\n",
       "      <td>170</td>\n",
       "      <td>32</td>\n",
       "      <td>92</td>\n",
       "      <td>1</td>\n",
       "      <td>7</td>\n",
       "      <td>1</td>\n",
       "      <td>2016</td>\n",
       "    </tr>\n",
       "  </tbody>\n",
       "</table>\n",
       "</div>"
      ],
      "text/plain": [
       "      city_code  station code    aqi  so2_24h  no2_24h  co_24h  o3_24h  \\\n",
       "1383     140100          1089  66.00       24       46   1.190     205   \n",
       "2790     140100          1085  82.83      283       93   3.512      16   \n",
       "2854     140100          1087  68.73      116       47   1.700      52   \n",
       "426      140100          1085  48.00       27       14   0.764      54   \n",
       "1461     140100          1087  71.00       15       43   1.249     170   \n",
       "\n",
       "      pm2_5_24h  pm10_24h  Weekday  Month  Date  Year  \n",
       "1383         30        74        1      6    21  2016  \n",
       "2790        182       253        0     12    10  2016  \n",
       "2854         63       134        1     12    28  2016  \n",
       "426          19        56        0      2    20  2016  \n",
       "1461         32        92        1      7     1  2016  "
      ]
     },
     "execution_count": 10,
     "metadata": {},
     "output_type": "execute_result"
    }
   ],
   "source": [
    "train.head(5)"
   ]
  },
  {
   "cell_type": "code",
   "execution_count": 11,
   "metadata": {
    "scrolled": false
   },
   "outputs": [
    {
     "data": {
      "text/plain": [
       "Index(['city_code', 'station code', 'aqi', 'so2_24h', 'no2_24h', 'co_24h',\n",
       "       'o3_24h', 'pm2_5_24h', 'pm10_24h', 'Weekday', 'Month', 'Date', 'Year'],\n",
       "      dtype='object')"
      ]
     },
     "execution_count": 11,
     "metadata": {},
     "output_type": "execute_result"
    }
   ],
   "source": [
    "train.columns"
   ]
  },
  {
   "cell_type": "code",
   "execution_count": 12,
   "metadata": {},
   "outputs": [
    {
     "data": {
      "text/plain": [
       "aqi    2032\n",
       "dtype: int64"
      ]
     },
     "execution_count": 12,
     "metadata": {},
     "output_type": "execute_result"
    }
   ],
   "source": [
    "# creating response vector to train our model\n",
    "#response_vector=pd.DataFrame(np.array(train['aqi']),columns=['aqi'])\n",
    "response_vector=pd.DataFrame(train['aqi'],columns=['aqi'])\n",
    "response_vector.loc[response_vector['aqi']==1]\n",
    "response_vector.head(30)\n",
    "response_vector.count()"
   ]
  },
  {
   "cell_type": "code",
   "execution_count": 13,
   "metadata": {},
   "outputs": [
    {
     "data": {
      "text/html": [
       "<div>\n",
       "<style>\n",
       "    .dataframe thead tr:only-child th {\n",
       "        text-align: right;\n",
       "    }\n",
       "\n",
       "    .dataframe thead th {\n",
       "        text-align: left;\n",
       "    }\n",
       "\n",
       "    .dataframe tbody tr th {\n",
       "        vertical-align: top;\n",
       "    }\n",
       "</style>\n",
       "<table border=\"1\" class=\"dataframe\">\n",
       "  <thead>\n",
       "    <tr style=\"text-align: right;\">\n",
       "      <th></th>\n",
       "      <th>Unnamed: 0</th>\n",
       "      <th>city_code</th>\n",
       "      <th>station code</th>\n",
       "      <th>aqi</th>\n",
       "      <th>so2_24h</th>\n",
       "      <th>no2_24h</th>\n",
       "      <th>co_24h</th>\n",
       "      <th>o3_24h</th>\n",
       "      <th>pm2_5_24h</th>\n",
       "      <th>pm10_24h</th>\n",
       "      <th>Weekday</th>\n",
       "      <th>Month</th>\n",
       "      <th>Date</th>\n",
       "      <th>Year</th>\n",
       "    </tr>\n",
       "  </thead>\n",
       "  <tbody>\n",
       "    <tr>\n",
       "      <th>count</th>\n",
       "      <td>872.000000</td>\n",
       "      <td>872.0</td>\n",
       "      <td>872.000000</td>\n",
       "      <td>872.000000</td>\n",
       "      <td>872.000000</td>\n",
       "      <td>872.000000</td>\n",
       "      <td>872.000000</td>\n",
       "      <td>872.000000</td>\n",
       "      <td>872.000000</td>\n",
       "      <td>872.000000</td>\n",
       "      <td>872.000000</td>\n",
       "      <td>872.000000</td>\n",
       "      <td>872.000000</td>\n",
       "      <td>872.0</td>\n",
       "    </tr>\n",
       "    <tr>\n",
       "      <th>mean</th>\n",
       "      <td>1400.061927</td>\n",
       "      <td>140100.0</td>\n",
       "      <td>1085.463303</td>\n",
       "      <td>89.280745</td>\n",
       "      <td>63.713303</td>\n",
       "      <td>42.026376</td>\n",
       "      <td>1.457474</td>\n",
       "      <td>94.305046</td>\n",
       "      <td>62.577982</td>\n",
       "      <td>118.925459</td>\n",
       "      <td>0.706422</td>\n",
       "      <td>6.271789</td>\n",
       "      <td>15.572248</td>\n",
       "      <td>2016.0</td>\n",
       "    </tr>\n",
       "    <tr>\n",
       "      <th>std</th>\n",
       "      <td>837.649323</td>\n",
       "      <td>0.0</td>\n",
       "      <td>2.471148</td>\n",
       "      <td>48.682206</td>\n",
       "      <td>70.570370</td>\n",
       "      <td>22.163167</td>\n",
       "      <td>0.847987</td>\n",
       "      <td>51.675074</td>\n",
       "      <td>50.975453</td>\n",
       "      <td>77.492581</td>\n",
       "      <td>0.455662</td>\n",
       "      <td>3.424197</td>\n",
       "      <td>8.705637</td>\n",
       "      <td>0.0</td>\n",
       "    </tr>\n",
       "    <tr>\n",
       "      <th>min</th>\n",
       "      <td>0.000000</td>\n",
       "      <td>140100.0</td>\n",
       "      <td>1081.000000</td>\n",
       "      <td>17.000000</td>\n",
       "      <td>2.000000</td>\n",
       "      <td>2.000000</td>\n",
       "      <td>0.196000</td>\n",
       "      <td>6.000000</td>\n",
       "      <td>4.000000</td>\n",
       "      <td>10.000000</td>\n",
       "      <td>0.000000</td>\n",
       "      <td>1.000000</td>\n",
       "      <td>1.000000</td>\n",
       "      <td>2016.0</td>\n",
       "    </tr>\n",
       "    <tr>\n",
       "      <th>25%</th>\n",
       "      <td>699.750000</td>\n",
       "      <td>140100.0</td>\n",
       "      <td>1084.000000</td>\n",
       "      <td>58.750000</td>\n",
       "      <td>19.000000</td>\n",
       "      <td>26.000000</td>\n",
       "      <td>0.839750</td>\n",
       "      <td>53.000000</td>\n",
       "      <td>29.000000</td>\n",
       "      <td>65.000000</td>\n",
       "      <td>0.000000</td>\n",
       "      <td>3.000000</td>\n",
       "      <td>8.000000</td>\n",
       "      <td>2016.0</td>\n",
       "    </tr>\n",
       "    <tr>\n",
       "      <th>50%</th>\n",
       "      <td>1384.000000</td>\n",
       "      <td>140100.0</td>\n",
       "      <td>1086.000000</td>\n",
       "      <td>79.720000</td>\n",
       "      <td>36.000000</td>\n",
       "      <td>38.000000</td>\n",
       "      <td>1.226000</td>\n",
       "      <td>86.000000</td>\n",
       "      <td>47.000000</td>\n",
       "      <td>100.500000</td>\n",
       "      <td>1.000000</td>\n",
       "      <td>6.000000</td>\n",
       "      <td>16.000000</td>\n",
       "      <td>2016.0</td>\n",
       "    </tr>\n",
       "    <tr>\n",
       "      <th>75%</th>\n",
       "      <td>2117.750000</td>\n",
       "      <td>140100.0</td>\n",
       "      <td>1088.000000</td>\n",
       "      <td>105.000000</td>\n",
       "      <td>77.000000</td>\n",
       "      <td>54.000000</td>\n",
       "      <td>1.869000</td>\n",
       "      <td>129.000000</td>\n",
       "      <td>78.250000</td>\n",
       "      <td>150.000000</td>\n",
       "      <td>1.000000</td>\n",
       "      <td>9.000000</td>\n",
       "      <td>23.000000</td>\n",
       "      <td>2016.0</td>\n",
       "    </tr>\n",
       "    <tr>\n",
       "      <th>max</th>\n",
       "      <td>2900.000000</td>\n",
       "      <td>140100.0</td>\n",
       "      <td>1089.000000</td>\n",
       "      <td>326.000000</td>\n",
       "      <td>430.000000</td>\n",
       "      <td>124.000000</td>\n",
       "      <td>5.146000</td>\n",
       "      <td>263.000000</td>\n",
       "      <td>366.000000</td>\n",
       "      <td>497.000000</td>\n",
       "      <td>1.000000</td>\n",
       "      <td>12.000000</td>\n",
       "      <td>31.000000</td>\n",
       "      <td>2016.0</td>\n",
       "    </tr>\n",
       "  </tbody>\n",
       "</table>\n",
       "</div>"
      ],
      "text/plain": [
       "        Unnamed: 0  city_code  station code         aqi     so2_24h  \\\n",
       "count   872.000000      872.0    872.000000  872.000000  872.000000   \n",
       "mean   1400.061927   140100.0   1085.463303   89.280745   63.713303   \n",
       "std     837.649323        0.0      2.471148   48.682206   70.570370   \n",
       "min       0.000000   140100.0   1081.000000   17.000000    2.000000   \n",
       "25%     699.750000   140100.0   1084.000000   58.750000   19.000000   \n",
       "50%    1384.000000   140100.0   1086.000000   79.720000   36.000000   \n",
       "75%    2117.750000   140100.0   1088.000000  105.000000   77.000000   \n",
       "max    2900.000000   140100.0   1089.000000  326.000000  430.000000   \n",
       "\n",
       "          no2_24h      co_24h      o3_24h   pm2_5_24h    pm10_24h     Weekday  \\\n",
       "count  872.000000  872.000000  872.000000  872.000000  872.000000  872.000000   \n",
       "mean    42.026376    1.457474   94.305046   62.577982  118.925459    0.706422   \n",
       "std     22.163167    0.847987   51.675074   50.975453   77.492581    0.455662   \n",
       "min      2.000000    0.196000    6.000000    4.000000   10.000000    0.000000   \n",
       "25%     26.000000    0.839750   53.000000   29.000000   65.000000    0.000000   \n",
       "50%     38.000000    1.226000   86.000000   47.000000  100.500000    1.000000   \n",
       "75%     54.000000    1.869000  129.000000   78.250000  150.000000    1.000000   \n",
       "max    124.000000    5.146000  263.000000  366.000000  497.000000    1.000000   \n",
       "\n",
       "            Month        Date    Year  \n",
       "count  872.000000  872.000000   872.0  \n",
       "mean     6.271789   15.572248  2016.0  \n",
       "std      3.424197    8.705637     0.0  \n",
       "min      1.000000    1.000000  2016.0  \n",
       "25%      3.000000    8.000000  2016.0  \n",
       "50%      6.000000   16.000000  2016.0  \n",
       "75%      9.000000   23.000000  2016.0  \n",
       "max     12.000000   31.000000  2016.0  "
      ]
     },
     "execution_count": 13,
     "metadata": {},
     "output_type": "execute_result"
    }
   ],
   "source": [
    "test_df1=pd.read_csv('new_test_data.csv')\n",
    "test_df1.describe()"
   ]
  },
  {
   "cell_type": "code",
   "execution_count": 14,
   "metadata": {},
   "outputs": [
    {
     "data": {
      "text/plain": [
       "(2032, 12)"
      ]
     },
     "execution_count": 14,
     "metadata": {},
     "output_type": "execute_result"
    }
   ],
   "source": [
    "train.drop('aqi',axis=1, inplace=True)\n",
    "train.shape"
   ]
  },
  {
   "cell_type": "code",
   "execution_count": 15,
   "metadata": {},
   "outputs": [
    {
     "data": {
      "text/html": [
       "<div>\n",
       "<style>\n",
       "    .dataframe thead tr:only-child th {\n",
       "        text-align: right;\n",
       "    }\n",
       "\n",
       "    .dataframe thead th {\n",
       "        text-align: left;\n",
       "    }\n",
       "\n",
       "    .dataframe tbody tr th {\n",
       "        vertical-align: top;\n",
       "    }\n",
       "</style>\n",
       "<table border=\"1\" class=\"dataframe\">\n",
       "  <thead>\n",
       "    <tr style=\"text-align: right;\">\n",
       "      <th></th>\n",
       "      <th>city_code</th>\n",
       "      <th>station code</th>\n",
       "      <th>so2_24h</th>\n",
       "      <th>no2_24h</th>\n",
       "      <th>co_24h</th>\n",
       "      <th>o3_24h</th>\n",
       "      <th>pm2_5_24h</th>\n",
       "      <th>pm10_24h</th>\n",
       "      <th>Weekday</th>\n",
       "      <th>Month</th>\n",
       "      <th>Date</th>\n",
       "      <th>Year</th>\n",
       "    </tr>\n",
       "  </thead>\n",
       "  <tbody>\n",
       "    <tr>\n",
       "      <th>1383</th>\n",
       "      <td>140100</td>\n",
       "      <td>1089</td>\n",
       "      <td>24</td>\n",
       "      <td>46</td>\n",
       "      <td>1.190</td>\n",
       "      <td>205</td>\n",
       "      <td>30</td>\n",
       "      <td>74</td>\n",
       "      <td>1</td>\n",
       "      <td>6</td>\n",
       "      <td>21</td>\n",
       "      <td>2016</td>\n",
       "    </tr>\n",
       "    <tr>\n",
       "      <th>2790</th>\n",
       "      <td>140100</td>\n",
       "      <td>1085</td>\n",
       "      <td>283</td>\n",
       "      <td>93</td>\n",
       "      <td>3.512</td>\n",
       "      <td>16</td>\n",
       "      <td>182</td>\n",
       "      <td>253</td>\n",
       "      <td>0</td>\n",
       "      <td>12</td>\n",
       "      <td>10</td>\n",
       "      <td>2016</td>\n",
       "    </tr>\n",
       "    <tr>\n",
       "      <th>2854</th>\n",
       "      <td>140100</td>\n",
       "      <td>1087</td>\n",
       "      <td>116</td>\n",
       "      <td>47</td>\n",
       "      <td>1.700</td>\n",
       "      <td>52</td>\n",
       "      <td>63</td>\n",
       "      <td>134</td>\n",
       "      <td>1</td>\n",
       "      <td>12</td>\n",
       "      <td>28</td>\n",
       "      <td>2016</td>\n",
       "    </tr>\n",
       "    <tr>\n",
       "      <th>426</th>\n",
       "      <td>140100</td>\n",
       "      <td>1085</td>\n",
       "      <td>27</td>\n",
       "      <td>14</td>\n",
       "      <td>0.764</td>\n",
       "      <td>54</td>\n",
       "      <td>19</td>\n",
       "      <td>56</td>\n",
       "      <td>0</td>\n",
       "      <td>2</td>\n",
       "      <td>20</td>\n",
       "      <td>2016</td>\n",
       "    </tr>\n",
       "    <tr>\n",
       "      <th>1461</th>\n",
       "      <td>140100</td>\n",
       "      <td>1087</td>\n",
       "      <td>15</td>\n",
       "      <td>43</td>\n",
       "      <td>1.249</td>\n",
       "      <td>170</td>\n",
       "      <td>32</td>\n",
       "      <td>92</td>\n",
       "      <td>1</td>\n",
       "      <td>7</td>\n",
       "      <td>1</td>\n",
       "      <td>2016</td>\n",
       "    </tr>\n",
       "  </tbody>\n",
       "</table>\n",
       "</div>"
      ],
      "text/plain": [
       "      city_code  station code  so2_24h  no2_24h  co_24h  o3_24h  pm2_5_24h  \\\n",
       "1383     140100          1089       24       46   1.190     205         30   \n",
       "2790     140100          1085      283       93   3.512      16        182   \n",
       "2854     140100          1087      116       47   1.700      52         63   \n",
       "426      140100          1085       27       14   0.764      54         19   \n",
       "1461     140100          1087       15       43   1.249     170         32   \n",
       "\n",
       "      pm10_24h  Weekday  Month  Date  Year  \n",
       "1383        74        1      6    21  2016  \n",
       "2790       253        0     12    10  2016  \n",
       "2854       134        1     12    28  2016  \n",
       "426         56        0      2    20  2016  \n",
       "1461        92        1      7     1  2016  "
      ]
     },
     "execution_count": 15,
     "metadata": {},
     "output_type": "execute_result"
    }
   ],
   "source": [
    "train.head(5)"
   ]
  },
  {
   "cell_type": "code",
   "execution_count": 16,
   "metadata": {},
   "outputs": [
    {
     "data": {
      "text/plain": [
       "Index(['city_code', 'station code', 'aqi', 'so2_24h', 'no2_24h', 'co_24h',\n",
       "       'o3_24h', 'pm2_5_24h', 'pm10_24h', 'Weekday', 'Month', 'Date', 'Year'],\n",
       "      dtype='object')"
      ]
     },
     "execution_count": 16,
     "metadata": {},
     "output_type": "execute_result"
    }
   ],
   "source": [
    "test.columns"
   ]
  },
  {
   "cell_type": "code",
   "execution_count": 17,
   "metadata": {},
   "outputs": [
    {
     "name": "stderr",
     "output_type": "stream",
     "text": [
      "C:\\Users\\Sohrab-PC\\Anaconda3\\lib\\site-packages\\ipykernel_launcher.py:1: SettingWithCopyWarning: \n",
      "A value is trying to be set on a copy of a slice from a DataFrame\n",
      "\n",
      "See the caveats in the documentation: http://pandas.pydata.org/pandas-docs/stable/indexing.html#indexing-view-versus-copy\n",
      "  \"\"\"Entry point for launching an IPython kernel.\n"
     ]
    },
    {
     "data": {
      "text/plain": [
       "(872, 12)"
      ]
     },
     "execution_count": 17,
     "metadata": {},
     "output_type": "execute_result"
    }
   ],
   "source": [
    "test.drop('aqi',axis=1, inplace=True)\n",
    "test.shape"
   ]
  },
  {
   "cell_type": "code",
   "execution_count": 18,
   "metadata": {
    "collapsed": true
   },
   "outputs": [],
   "source": [
    "from sklearn.tree import DecisionTreeRegressor\n",
    "rfc=DecisionTreeRegressor()"
   ]
  },
  {
   "cell_type": "code",
   "execution_count": 19,
   "metadata": {},
   "outputs": [
    {
     "data": {
      "text/plain": [
       "DecisionTreeRegressor(criterion='mse', max_depth=None, max_features=None,\n",
       "           max_leaf_nodes=None, min_impurity_split=1e-07,\n",
       "           min_samples_leaf=1, min_samples_split=2,\n",
       "           min_weight_fraction_leaf=0.0, presort=False, random_state=None,\n",
       "           splitter='best')"
      ]
     },
     "execution_count": 19,
     "metadata": {},
     "output_type": "execute_result"
    }
   ],
   "source": [
    "rfc.fit(train,response_vector.values.ravel())\n",
    "#rfc.fit(train,response_vector)\n"
   ]
  },
  {
   "cell_type": "code",
   "execution_count": 20,
   "metadata": {
    "collapsed": true
   },
   "outputs": [],
   "source": [
    "predict_rfc =rfc.predict(test)"
   ]
  },
  {
   "cell_type": "code",
   "execution_count": 21,
   "metadata": {},
   "outputs": [
    {
     "name": "stdout",
     "output_type": "stream",
     "text": [
      "[  58.    103.     59.    104.     90.     50.     76.     75.     49.\n",
      "  129.    113.     62.     66.    136.     74.     93.    188.     67.\n",
      "   90.23   73.     82.83   55.    255.     95.     42.    108.     63.\n",
      "   75.     82.83   25.     62.    132.     81.     62.     90.     34.\n",
      "  167.     52.    112.    151.     60.    118.     88.    117.     72.\n",
      "   24.     76.     47.     44.    327.    175.     58.     87.    132.\n",
      "   63.     63.     78.     49.     60.    100.    163.     56.     83.2\n",
      "   92.     54.9   134.     34.     34.     64.     41.    129.     54.\n",
      "   59.     36.     75.    203.    102.     74.     66.     79.72  105.\n",
      "   81.    109.    214.    242.     94.    131.17  108.    288.    272.\n",
      "   82.83   84.     54.     30.     39.     86.    112.     46.    253.\n",
      "   22.     55.     54.     75.    120.    136.     77.    110.    101.\n",
      "   35.     90.23   57.     66.     43.     75.    242.     79.     77.\n",
      "  110.    126.     54.9    83.     68.     84.    309.     58.     38.\n",
      "   65.     39.     22.    101.     51.     70.    113.     47.     97.\n",
      "  149.     65.     66.     34.     41.    149.    101.     52.     22.\n",
      "  116.     61.     79.    205.     96.    358.    132.     68.73  158.\n",
      "   95.     67.    167.    113.     86.     70.    180.     57.     83.2\n",
      "   87.     44.     65.     68.31  137.     75.     90.23  236.    294.\n",
      "   84.     88.     73.     79.     35.     72.    101.     69.     63.\n",
      "  100.     45.     94.     90.23  203.     43.     38.    131.17   30.\n",
      "   63.     46.    141.    116.    100.     29.    131.17   58.     79.\n",
      "  106.     50.     88.     76.     76.     72.     85.    149.     86.\n",
      "   71.    108.     46.     69.     79.     94.     64.     54.9    56.\n",
      "   71.     59.    119.     54.     78.     88.     51.     77.     41.\n",
      "  288.     40.     68.73  159.    155.    116.    108.     86.     88.\n",
      "   64.     73.    100.    219.     32.     78.    132.     64.     59.\n",
      "   82.     50.    116.     38.     85.     35.     71.     50.     99.\n",
      "  152.    185.    125.    158.     43.     79.72  219.    203.     84.25\n",
      "   94.     63.     59.     79.    160.     84.    118.     85.     41.\n",
      "   98.     79.72   53.     38.    158.     45.    105.    111.     69.\n",
      "   54.    214.     39.    175.     71.     55.     69.     50.    124.\n",
      "   82.     78.    111.    106.     90.23   99.     83.    139.    101.\n",
      "   83.2    63.     87.     68.     98.     38.    119.     42.     79.\n",
      "  116.     88.     48.    136.     69.     57.    132.    160.     77.\n",
      "   92.     68.73  100.     43.     62.     81.     81.     84.25  163.\n",
      "   95.    103.     67.     83.2    67.     47.     32.     72.    160.\n",
      "  251.     54.9    43.     75.     90.23   34.    170.     80.    199.\n",
      "   86.    152.     48.     36.     39.     83.     65.     85.     55.\n",
      "   73.     83.     86.    105.    307.     56.     83.2   135.    329.\n",
      "   66.    122.     86.     62.     49.    119.     45.     66.    111.\n",
      "   52.     77.    111.     66.     86.     78.    143.     68.31  124.\n",
      "   88.    109.     34.     45.     70.     87.     49.     89.     79.72\n",
      "   68.    100.     83.2    85.     29.     19.     82.83   48.     95.\n",
      "   62.     99.     58.     37.    104.     70.    129.     63.    108.\n",
      "   73.    151.    117.     93.     56.    130.     76.     50.     84.25\n",
      "   75.    131.17   79.72  154.     48.    219.     55.    175.    274.\n",
      "   25.     36.    100.     63.     46.    180.     66.     83.2    47.\n",
      "   91.    125.     80.     54.9    82.83   82.    112.    126.     68.31\n",
      "   37.     44.     20.     92.     46.    107.     71.     47.    114.\n",
      "   68.31  103.    131.17   75.     44.     95.     61.     85.     25.\n",
      "   45.     85.    214.     45.     64.     68.31   49.     74.     85.\n",
      "   85.     45.     85.    120.     77.     82.    139.     70.    116.\n",
      "   39.     50.     83.     48.     55.    102.     38.    102.     85.\n",
      "  155.     98.     36.     83.2    54.     65.     67.     91.     60.\n",
      "  104.     91.     71.     64.     82.83   82.83   44.     55.    112.\n",
      "   45.    145.     55.    210.     29.     92.     43.     68.31   81.\n",
      "   38.     78.    100.     72.    108.     25.     92.     79.72   67.\n",
      "   76.     77.     34.     86.    185.     40.     64.     54.    135.\n",
      "   61.     59.     55.    132.     79.72   62.     40.     30.     81.\n",
      "   79.72  110.    108.    132.     68.     83.     70.    117.     68.\n",
      "   70.     72.     74.    116.     93.     54.9    78.     96.     57.\n",
      "   68.73  171.     36.    211.    101.     45.     30.     79.72  219.\n",
      "   34.    113.     77.     53.     93.     56.     63.     84.25   49.\n",
      "  211.     93.    129.    110.    108.     56.     68.     64.     85.\n",
      "   74.    114.    111.     32.     63.     85.    101.     97.    107.\n",
      "   41.     29.    204.     85.     75.    181.    157.    112.    180.\n",
      "  131.17   44.     53.     95.    103.     95.     60.    135.     75.\n",
      "   83.2    74.     72.     38.     59.    160.     90.     37.    109.\n",
      "   92.     86.     67.     30.     59.     30.     78.     31.    122.\n",
      "   67.     44.     82.83  114.     26.     63.    159.    104.    171.\n",
      "   99.    252.     87.     85.     76.     73.    188.    184.    206.\n",
      "  115.     90.     75.     82.     73.    175.     71.     36.     29.\n",
      "  144.    116.     24.     61.     64.     57.     67.     44.     51.\n",
      "  107.    113.    103.     92.     60.     61.     45.     60.     55.\n",
      "   91.     51.     76.     34.     54.    130.    124.    137.    110.\n",
      "  182.     79.    116.     70.     49.     79.72  211.    100.     88.\n",
      "   52.    112.     93.    104.    159.    115.    142.     46.     64.\n",
      "  224.     84.25  124.     56.     51.     64.     67.     88.     38.\n",
      "  112.     60.    136.     67.     78.     99.     64.     59.    109.\n",
      "   76.    175.     84.     71.     32.    125.    118.     74.     74.\n",
      "   87.     72.     40.     82.83   83.     42.     64.     79.     58.\n",
      "   54.     58.     46.    146.     95.     42.     60.     83.     71.\n",
      "   86.     50.    116.     97.     95.     88.     53.     87.    182.\n",
      "   87.     72.     68.73   99.     37.     45.    110.    108.     59.\n",
      "  111.     62.     67.    100.    132.    114.     84.    163.     47.\n",
      "   73.     79.    114.     30.     78.     87.     55.     65.    121.\n",
      "  108.     58.    158.     50.     81.     63.     61.     66.     62.\n",
      "   41.     45.     78.    106.    185.     92.    101.     75.    107.\n",
      "   69.     49.     72.     68.31   17.    107.     40.     71.     76.\n",
      "   50.     71.     57.     88.     81.     90.23   38.    163.    118.\n",
      "   32.     62.     78.     84.    272.     87.    101.    184.     98.\n",
      "  132.     90.23   36.    118.     99.     51.    101.     68.73   38.\n",
      "   30.     27.    137.    136.     46.     49.    101.    189.     40.\n",
      "  255.     71.     58.    121.     69.     71.     78.     58.     84.\n",
      "   18.     56.     54.9    56.     80.     49.     90.23   80.    187.\n",
      "   54.    103.     54.     65.     54.    149.     71.    158.  ]\n"
     ]
    }
   ],
   "source": [
    "predict_rfc.shape\n",
    "print(predict_rfc)"
   ]
  },
  {
   "cell_type": "code",
   "execution_count": 22,
   "metadata": {},
   "outputs": [
    {
     "data": {
      "text/plain": [
       "array([ 3.48771789])"
      ]
     },
     "execution_count": 22,
     "metadata": {},
     "output_type": "execute_result"
    }
   ],
   "source": [
    "#accuracy_score(test_df1.aqi,predict_rfc)\n",
    "#accuracy_score(test_df1.aqi,predict_rfc.round(), normalize=False)\n",
    "from sklearn.metrics import mean_absolute_error\n",
    "mean_absolute_error(test_df1.aqi,predict_rfc, multioutput='raw_values')\n",
    "#mean_absolute_error(test_df1.aqi,predict_rfc.round())\n",
    "#mean_absolute_error(test_df1.aqi,predict_rfc.round(),multioutput=[0.3, 0.7])"
   ]
  },
  {
   "cell_type": "code",
   "execution_count": 23,
   "metadata": {},
   "outputs": [
    {
     "name": "stdout",
     "output_type": "stream",
     "text": [
      "96.51228211009175\n",
      "95.6505660742\n"
     ]
    }
   ],
   "source": [
    "#print(classification_report(test_df1.aqi,predict_rfc))\n",
    "#print(test_df1)\n",
    "#print(predict_rfc)\n",
    "\n",
    "c=0\n",
    "import math\n",
    "predictionsArr = np.asarray(predict_rfc, dtype=\"|f8\")\n",
    "realArr = np.asarray(test_df1.aqi, dtype=\"|f8\")\n",
    "\n",
    "for x in range(0,len(predictionsArr)):\n",
    "    c += math.fabs((predictionsArr[x]-realArr[x]))\n",
    "print(100 - c/len(predict_rfc))\n",
    "c=0\n",
    "for x in range(0,len(predictionsArr)):\n",
    "    c += (math.fabs((predictionsArr[x]-realArr[x]))/realArr[x])*100\n",
    "print(100 - c/len(predict_rfc))"
   ]
  }
 ],
 "metadata": {
  "anaconda-cloud": {},
  "kernelspec": {
   "display_name": "Python 2",
   "language": "python",
   "name": "python2"
  },
  "language_info": {
   "codemirror_mode": {
    "name": "ipython",
    "version": 2
   },
   "file_extension": ".py",
   "mimetype": "text/x-python",
   "name": "python",
   "nbconvert_exporter": "python",
   "pygments_lexer": "ipython2",
   "version": "2.7.11"
  }
 },
 "nbformat": 4,
 "nbformat_minor": 1
}
