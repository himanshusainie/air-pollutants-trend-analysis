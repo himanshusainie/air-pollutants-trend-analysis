{
 "cells": [
  {
   "cell_type": "code",
   "execution_count": 1,
   "metadata": {},
   "outputs": [
    {
     "name": "stderr",
     "output_type": "stream",
     "text": [
      "C:\\Users\\Sohrab-PC\\Anaconda3\\lib\\site-packages\\sklearn\\cross_validation.py:44: DeprecationWarning: This module was deprecated in version 0.18 in favor of the model_selection module into which all the refactored classes and functions are moved. Also note that the interface of the new CV iterators are different from that of this module. This module will be removed in 0.20.\n",
      "  \"This module will be removed in 0.20.\", DeprecationWarning)\n"
     ]
    }
   ],
   "source": [
    "import pandas as pd\n",
    "from sklearn.cross_validation import train_test_split\n",
    "from sklearn.datasets import make_classification\n",
    "#from sklearn.ensemble import DecisionTreeRegressor\n",
    "from sklearn.metrics import classification_report\n",
    "from sklearn.metrics import accuracy_score\n",
    "import numpy as np\n",
    "import string\n",
    "import csv\n",
    "import sys"
   ]
  },
  {
   "cell_type": "code",
   "execution_count": 2,
   "metadata": {
    "collapsed": true
   },
   "outputs": [],
   "source": [
    "kdd_info = pd.read_csv('Mean-2016.csv')"
   ]
  },
  {
   "cell_type": "code",
   "execution_count": 3,
   "metadata": {},
   "outputs": [
    {
     "data": {
      "text/plain": [
       "province        3262\n",
       "city            3262\n",
       "city_code       3262\n",
       "station         3262\n",
       "station_code    3262\n",
       "aqi             3262\n",
       "so2_24h         3262\n",
       "no2_24h         3262\n",
       "co_24h          3262\n",
       "o3_24h          3262\n",
       "o3_8h_24h       3262\n",
       "pm2_5_24h       3262\n",
       "pm10_24h        3262\n",
       "pubtime         3262\n",
       "dtype: int64"
      ]
     },
     "execution_count": 3,
     "metadata": {},
     "output_type": "execute_result"
    }
   ],
   "source": [
    "kdd_info.head()\n",
    "kdd_info.count()"
   ]
  },
  {
   "cell_type": "code",
   "execution_count": 4,
   "metadata": {},
   "outputs": [
    {
     "data": {
      "text/html": [
       "<div>\n",
       "<style>\n",
       "    .dataframe thead tr:only-child th {\n",
       "        text-align: right;\n",
       "    }\n",
       "\n",
       "    .dataframe thead th {\n",
       "        text-align: left;\n",
       "    }\n",
       "\n",
       "    .dataframe tbody tr th {\n",
       "        vertical-align: top;\n",
       "    }\n",
       "</style>\n",
       "<table border=\"1\" class=\"dataframe\">\n",
       "  <thead>\n",
       "    <tr style=\"text-align: right;\">\n",
       "      <th></th>\n",
       "      <th>city_code</th>\n",
       "      <th>station_code</th>\n",
       "      <th>aqi</th>\n",
       "      <th>so2_24h</th>\n",
       "      <th>no2_24h</th>\n",
       "      <th>co_24h</th>\n",
       "      <th>o3_24h</th>\n",
       "      <th>o3_8h_24h</th>\n",
       "      <th>pm2_5_24h</th>\n",
       "      <th>pm10_24h</th>\n",
       "      <th>pubtime</th>\n",
       "    </tr>\n",
       "  </thead>\n",
       "  <tbody>\n",
       "    <tr>\n",
       "      <th>count</th>\n",
       "      <td>3262.0</td>\n",
       "      <td>3262.000000</td>\n",
       "      <td>3262.000000</td>\n",
       "      <td>3262.000000</td>\n",
       "      <td>3262.000000</td>\n",
       "      <td>3262.000000</td>\n",
       "      <td>3262.000000</td>\n",
       "      <td>3262.000000</td>\n",
       "      <td>3262.000000</td>\n",
       "      <td>3262.000000</td>\n",
       "      <td>3262.000000</td>\n",
       "    </tr>\n",
       "    <tr>\n",
       "      <th>mean</th>\n",
       "      <td>140100.0</td>\n",
       "      <td>1085.021153</td>\n",
       "      <td>89.063458</td>\n",
       "      <td>65.525138</td>\n",
       "      <td>42.598712</td>\n",
       "      <td>1.470230</td>\n",
       "      <td>93.976701</td>\n",
       "      <td>77.303495</td>\n",
       "      <td>63.246168</td>\n",
       "      <td>118.125690</td>\n",
       "      <td>42550.908645</td>\n",
       "    </tr>\n",
       "    <tr>\n",
       "      <th>std</th>\n",
       "      <td>0.0</td>\n",
       "      <td>2.579110</td>\n",
       "      <td>43.257854</td>\n",
       "      <td>69.686074</td>\n",
       "      <td>21.243320</td>\n",
       "      <td>0.806947</td>\n",
       "      <td>49.588748</td>\n",
       "      <td>42.436227</td>\n",
       "      <td>50.362066</td>\n",
       "      <td>72.454595</td>\n",
       "      <td>104.941176</td>\n",
       "    </tr>\n",
       "    <tr>\n",
       "      <th>min</th>\n",
       "      <td>140100.0</td>\n",
       "      <td>1081.000000</td>\n",
       "      <td>17.000000</td>\n",
       "      <td>2.000000</td>\n",
       "      <td>2.000000</td>\n",
       "      <td>0.137000</td>\n",
       "      <td>1.000000</td>\n",
       "      <td>1.000000</td>\n",
       "      <td>3.000000</td>\n",
       "      <td>7.000000</td>\n",
       "      <td>42370.000000</td>\n",
       "    </tr>\n",
       "    <tr>\n",
       "      <th>25%</th>\n",
       "      <td>140100.0</td>\n",
       "      <td>1083.000000</td>\n",
       "      <td>62.000000</td>\n",
       "      <td>21.000000</td>\n",
       "      <td>28.250000</td>\n",
       "      <td>0.904000</td>\n",
       "      <td>57.000000</td>\n",
       "      <td>44.250000</td>\n",
       "      <td>31.000000</td>\n",
       "      <td>69.000000</td>\n",
       "      <td>42460.000000</td>\n",
       "    </tr>\n",
       "    <tr>\n",
       "      <th>50%</th>\n",
       "      <td>140100.0</td>\n",
       "      <td>1085.000000</td>\n",
       "      <td>90.000000</td>\n",
       "      <td>44.000000</td>\n",
       "      <td>42.000000</td>\n",
       "      <td>1.345000</td>\n",
       "      <td>94.000000</td>\n",
       "      <td>77.000000</td>\n",
       "      <td>54.000000</td>\n",
       "      <td>111.000000</td>\n",
       "      <td>42551.000000</td>\n",
       "    </tr>\n",
       "    <tr>\n",
       "      <th>75%</th>\n",
       "      <td>140100.0</td>\n",
       "      <td>1087.000000</td>\n",
       "      <td>98.000000</td>\n",
       "      <td>74.000000</td>\n",
       "      <td>52.000000</td>\n",
       "      <td>1.737000</td>\n",
       "      <td>123.000000</td>\n",
       "      <td>102.000000</td>\n",
       "      <td>72.000000</td>\n",
       "      <td>141.000000</td>\n",
       "      <td>42641.000000</td>\n",
       "    </tr>\n",
       "    <tr>\n",
       "      <th>max</th>\n",
       "      <td>140100.0</td>\n",
       "      <td>1089.000000</td>\n",
       "      <td>361.000000</td>\n",
       "      <td>582.000000</td>\n",
       "      <td>141.000000</td>\n",
       "      <td>5.513000</td>\n",
       "      <td>303.000000</td>\n",
       "      <td>232.000000</td>\n",
       "      <td>414.000000</td>\n",
       "      <td>541.000000</td>\n",
       "      <td>42735.000000</td>\n",
       "    </tr>\n",
       "  </tbody>\n",
       "</table>\n",
       "</div>"
      ],
      "text/plain": [
       "       city_code  station_code          aqi      so2_24h      no2_24h  \\\n",
       "count     3262.0   3262.000000  3262.000000  3262.000000  3262.000000   \n",
       "mean    140100.0   1085.021153    89.063458    65.525138    42.598712   \n",
       "std          0.0      2.579110    43.257854    69.686074    21.243320   \n",
       "min     140100.0   1081.000000    17.000000     2.000000     2.000000   \n",
       "25%     140100.0   1083.000000    62.000000    21.000000    28.250000   \n",
       "50%     140100.0   1085.000000    90.000000    44.000000    42.000000   \n",
       "75%     140100.0   1087.000000    98.000000    74.000000    52.000000   \n",
       "max     140100.0   1089.000000   361.000000   582.000000   141.000000   \n",
       "\n",
       "            co_24h       o3_24h    o3_8h_24h    pm2_5_24h     pm10_24h  \\\n",
       "count  3262.000000  3262.000000  3262.000000  3262.000000  3262.000000   \n",
       "mean      1.470230    93.976701    77.303495    63.246168   118.125690   \n",
       "std       0.806947    49.588748    42.436227    50.362066    72.454595   \n",
       "min       0.137000     1.000000     1.000000     3.000000     7.000000   \n",
       "25%       0.904000    57.000000    44.250000    31.000000    69.000000   \n",
       "50%       1.345000    94.000000    77.000000    54.000000   111.000000   \n",
       "75%       1.737000   123.000000   102.000000    72.000000   141.000000   \n",
       "max       5.513000   303.000000   232.000000   414.000000   541.000000   \n",
       "\n",
       "            pubtime  \n",
       "count   3262.000000  \n",
       "mean   42550.908645  \n",
       "std      104.941176  \n",
       "min    42370.000000  \n",
       "25%    42460.000000  \n",
       "50%    42551.000000  \n",
       "75%    42641.000000  \n",
       "max    42735.000000  "
      ]
     },
     "execution_count": 4,
     "metadata": {},
     "output_type": "execute_result"
    }
   ],
   "source": [
    "kdd_info.describe()"
   ]
  },
  {
   "cell_type": "code",
   "execution_count": 5,
   "metadata": {},
   "outputs": [
    {
     "data": {
      "text/plain": [
       "city_code       3262\n",
       "station_code    3262\n",
       "aqi             3262\n",
       "so2_24h         3262\n",
       "no2_24h         3262\n",
       "co_24h          3262\n",
       "o3_24h          3262\n",
       "pm2_5_24h       3262\n",
       "pm10_24h        3262\n",
       "pubtime         3262\n",
       "dtype: int64"
      ]
     },
     "execution_count": 5,
     "metadata": {},
     "output_type": "execute_result"
    }
   ],
   "source": [
    "kdd_info.shape\n",
    "#train.drop('aqi',axis=1, inplace=True)\n",
    "#kdd_info.drop('pubtime', axis=1, inplace=True)\n",
    "#kdd_info.drop('city_code', axis=1, inplace=True)\n",
    "#kdd_info.drop('station_code', axis=1, inplace=True)\n",
    "kdd_info.drop('station', axis=1, inplace=True)\n",
    "kdd_info.drop('city', axis=1, inplace=True)\n",
    "kdd_info.drop('province', axis=1, inplace=True)\n",
    "kdd_info.drop('o3_8h_24h', axis=1, inplace=True)\n",
    "kdd_info.count()"
   ]
  },
  {
   "cell_type": "code",
   "execution_count": 6,
   "metadata": {},
   "outputs": [
    {
     "data": {
      "text/plain": [
       "\"\\nfrom sklearn.preprocessing import Imputer\\n\\nimp = Imputer(missing_values='NaN', strategy='mean', axis=1)\\n#imputed_DF = pd.DataFrame(imp.fit_transform(kdd_info))\\nimputed_DF['aqi'] = pd.DataFrame(imp.fit_transform(imputed_DF['aqi']).ravel())\\nimputed_DF['so2_24h'] = pd.DataFrame(imp.fit_transform(imputed_DF['so2_24h']).ravel())\\nimputed_DF['no2_24h'] = pd.DataFrame(imp.fit_transform(imputed_DF['no2_24h']).ravel())\\nimputed_DF['co_24h'] = pd.DataFrame(imp.fit_transform(imputed_DF['co_24h']).ravel())\\nimputed_DF['o3_24h'] = pd.DataFrame(imp.fit_transform(imputed_DF['o3_24h']).ravel())\\nimputed_DF['pm2_5_24h'] = pd.DataFrame(imp.fit_transform(imputed_DF['pm2_5_24h']).ravel())\\nimputed_DF['pm10_24h'] = pd.DataFrame(imp.fit_transform(imputed_DF['pm10_24h']).ravel())\\n\\n#Converting float pubtime to DateTime format\\n#imputed_DF['pubtime'] = pd.to_datetime(imputed_DF['pubtime'], format='%m/%d/%Y')\\n#imputed_DF['pubtime'] = imputed_DF['pubtime'].dt.total_seconds()\\n\\nimputed_DF.columns = kdd_info.columns\\nimputed_DF.index = kdd_info.index\\nimputed_DF.count()\\nimputed_DF.count()\\n\\n#kdd_info.describe()\\n\""
      ]
     },
     "execution_count": 6,
     "metadata": {},
     "output_type": "execute_result"
    }
   ],
   "source": [
    "imputed_DF = kdd_info\n",
    "'''\n",
    "from sklearn.preprocessing import Imputer\n",
    "\n",
    "imp = Imputer(missing_values='NaN', strategy='mean', axis=1)\n",
    "#imputed_DF = pd.DataFrame(imp.fit_transform(kdd_info))\n",
    "imputed_DF['aqi'] = pd.DataFrame(imp.fit_transform(imputed_DF['aqi']).ravel())\n",
    "imputed_DF['so2_24h'] = pd.DataFrame(imp.fit_transform(imputed_DF['so2_24h']).ravel())\n",
    "imputed_DF['no2_24h'] = pd.DataFrame(imp.fit_transform(imputed_DF['no2_24h']).ravel())\n",
    "imputed_DF['co_24h'] = pd.DataFrame(imp.fit_transform(imputed_DF['co_24h']).ravel())\n",
    "imputed_DF['o3_24h'] = pd.DataFrame(imp.fit_transform(imputed_DF['o3_24h']).ravel())\n",
    "imputed_DF['pm2_5_24h'] = pd.DataFrame(imp.fit_transform(imputed_DF['pm2_5_24h']).ravel())\n",
    "imputed_DF['pm10_24h'] = pd.DataFrame(imp.fit_transform(imputed_DF['pm10_24h']).ravel())\n",
    "\n",
    "#Converting float pubtime to DateTime format\n",
    "#imputed_DF['pubtime'] = pd.to_datetime(imputed_DF['pubtime'], format='%m/%d/%Y')\n",
    "#imputed_DF['pubtime'] = imputed_DF['pubtime'].dt.total_seconds()\n",
    "\n",
    "imputed_DF.columns = kdd_info.columns\n",
    "imputed_DF.index = kdd_info.index\n",
    "imputed_DF.count()\n",
    "imputed_DF.count()\n",
    "\n",
    "#kdd_info.describe()\n",
    "'''"
   ]
  },
  {
   "cell_type": "code",
   "execution_count": 7,
   "metadata": {
    "collapsed": true
   },
   "outputs": [],
   "source": [
    "train, test = train_test_split(imputed_DF, test_size = 0.3)\n",
    "\n",
    "train.to_csv('new1_train_data.csv')\n",
    "test.to_csv('new_test_data.csv')"
   ]
  },
  {
   "cell_type": "code",
   "execution_count": 8,
   "metadata": {},
   "outputs": [
    {
     "data": {
      "text/plain": [
       "(2283, 10)"
      ]
     },
     "execution_count": 8,
     "metadata": {},
     "output_type": "execute_result"
    }
   ],
   "source": [
    "train.shape"
   ]
  },
  {
   "cell_type": "code",
   "execution_count": 9,
   "metadata": {},
   "outputs": [
    {
     "data": {
      "text/plain": [
       "(2283, 10)"
      ]
     },
     "execution_count": 9,
     "metadata": {},
     "output_type": "execute_result"
    }
   ],
   "source": [
    "train = train.dropna()\n",
    "train.shape"
   ]
  },
  {
   "cell_type": "code",
   "execution_count": 10,
   "metadata": {},
   "outputs": [
    {
     "data": {
      "text/html": [
       "<div>\n",
       "<style>\n",
       "    .dataframe thead tr:only-child th {\n",
       "        text-align: right;\n",
       "    }\n",
       "\n",
       "    .dataframe thead th {\n",
       "        text-align: left;\n",
       "    }\n",
       "\n",
       "    .dataframe tbody tr th {\n",
       "        vertical-align: top;\n",
       "    }\n",
       "</style>\n",
       "<table border=\"1\" class=\"dataframe\">\n",
       "  <thead>\n",
       "    <tr style=\"text-align: right;\">\n",
       "      <th></th>\n",
       "      <th>city_code</th>\n",
       "      <th>station_code</th>\n",
       "      <th>aqi</th>\n",
       "      <th>so2_24h</th>\n",
       "      <th>no2_24h</th>\n",
       "      <th>co_24h</th>\n",
       "      <th>o3_24h</th>\n",
       "      <th>pm2_5_24h</th>\n",
       "      <th>pm10_24h</th>\n",
       "      <th>pubtime</th>\n",
       "    </tr>\n",
       "  </thead>\n",
       "  <tbody>\n",
       "    <tr>\n",
       "      <th>522</th>\n",
       "      <td>140100</td>\n",
       "      <td>1088</td>\n",
       "      <td>52</td>\n",
       "      <td>36</td>\n",
       "      <td>25</td>\n",
       "      <td>2.341</td>\n",
       "      <td>91</td>\n",
       "      <td>21</td>\n",
       "      <td>59</td>\n",
       "      <td>42423</td>\n",
       "    </tr>\n",
       "    <tr>\n",
       "      <th>210</th>\n",
       "      <td>140100</td>\n",
       "      <td>1084</td>\n",
       "      <td>86</td>\n",
       "      <td>99</td>\n",
       "      <td>30</td>\n",
       "      <td>2.367</td>\n",
       "      <td>59</td>\n",
       "      <td>64</td>\n",
       "      <td>97</td>\n",
       "      <td>42394</td>\n",
       "    </tr>\n",
       "    <tr>\n",
       "      <th>2014</th>\n",
       "      <td>140100</td>\n",
       "      <td>1088</td>\n",
       "      <td>88</td>\n",
       "      <td>24</td>\n",
       "      <td>70</td>\n",
       "      <td>1.039</td>\n",
       "      <td>210</td>\n",
       "      <td>58</td>\n",
       "      <td>114</td>\n",
       "      <td>42593</td>\n",
       "    </tr>\n",
       "    <tr>\n",
       "      <th>2157</th>\n",
       "      <td>140100</td>\n",
       "      <td>1087</td>\n",
       "      <td>58</td>\n",
       "      <td>20</td>\n",
       "      <td>46</td>\n",
       "      <td>0.846</td>\n",
       "      <td>87</td>\n",
       "      <td>16</td>\n",
       "      <td>70</td>\n",
       "      <td>42609</td>\n",
       "    </tr>\n",
       "    <tr>\n",
       "      <th>2522</th>\n",
       "      <td>140100</td>\n",
       "      <td>1083</td>\n",
       "      <td>32</td>\n",
       "      <td>8</td>\n",
       "      <td>16</td>\n",
       "      <td>0.630</td>\n",
       "      <td>80</td>\n",
       "      <td>16</td>\n",
       "      <td>30</td>\n",
       "      <td>42650</td>\n",
       "    </tr>\n",
       "  </tbody>\n",
       "</table>\n",
       "</div>"
      ],
      "text/plain": [
       "      city_code  station_code  aqi  so2_24h  no2_24h  co_24h  o3_24h  \\\n",
       "522      140100          1088   52       36       25   2.341      91   \n",
       "210      140100          1084   86       99       30   2.367      59   \n",
       "2014     140100          1088   88       24       70   1.039     210   \n",
       "2157     140100          1087   58       20       46   0.846      87   \n",
       "2522     140100          1083   32        8       16   0.630      80   \n",
       "\n",
       "      pm2_5_24h  pm10_24h  pubtime  \n",
       "522          21        59    42423  \n",
       "210          64        97    42394  \n",
       "2014         58       114    42593  \n",
       "2157         16        70    42609  \n",
       "2522         16        30    42650  "
      ]
     },
     "execution_count": 10,
     "metadata": {},
     "output_type": "execute_result"
    }
   ],
   "source": [
    "train.head(5)"
   ]
  },
  {
   "cell_type": "code",
   "execution_count": 11,
   "metadata": {
    "scrolled": false
   },
   "outputs": [
    {
     "data": {
      "text/plain": [
       "Index(['city_code', 'station_code', 'aqi', 'so2_24h', 'no2_24h', 'co_24h',\n",
       "       'o3_24h', 'pm2_5_24h', 'pm10_24h', 'pubtime'],\n",
       "      dtype='object')"
      ]
     },
     "execution_count": 11,
     "metadata": {},
     "output_type": "execute_result"
    }
   ],
   "source": [
    "train.columns"
   ]
  },
  {
   "cell_type": "code",
   "execution_count": 12,
   "metadata": {},
   "outputs": [
    {
     "data": {
      "text/plain": [
       "aqi    2283\n",
       "dtype: int64"
      ]
     },
     "execution_count": 12,
     "metadata": {},
     "output_type": "execute_result"
    }
   ],
   "source": [
    "# creating response vector to train our model\n",
    "#response_vector=pd.DataFrame(np.array(train['aqi']),columns=['aqi'])\n",
    "response_vector=pd.DataFrame(train['aqi'],columns=['aqi'])\n",
    "response_vector.loc[response_vector['aqi']==1]\n",
    "response_vector.head(30)\n",
    "response_vector.count()"
   ]
  },
  {
   "cell_type": "code",
   "execution_count": 13,
   "metadata": {},
   "outputs": [
    {
     "data": {
      "text/html": [
       "<div>\n",
       "<style>\n",
       "    .dataframe thead tr:only-child th {\n",
       "        text-align: right;\n",
       "    }\n",
       "\n",
       "    .dataframe thead th {\n",
       "        text-align: left;\n",
       "    }\n",
       "\n",
       "    .dataframe tbody tr th {\n",
       "        vertical-align: top;\n",
       "    }\n",
       "</style>\n",
       "<table border=\"1\" class=\"dataframe\">\n",
       "  <thead>\n",
       "    <tr style=\"text-align: right;\">\n",
       "      <th></th>\n",
       "      <th>Unnamed: 0</th>\n",
       "      <th>city_code</th>\n",
       "      <th>station_code</th>\n",
       "      <th>aqi</th>\n",
       "      <th>so2_24h</th>\n",
       "      <th>no2_24h</th>\n",
       "      <th>co_24h</th>\n",
       "      <th>o3_24h</th>\n",
       "      <th>pm2_5_24h</th>\n",
       "      <th>pm10_24h</th>\n",
       "      <th>pubtime</th>\n",
       "    </tr>\n",
       "  </thead>\n",
       "  <tbody>\n",
       "    <tr>\n",
       "      <th>count</th>\n",
       "      <td>979.000000</td>\n",
       "      <td>979.0</td>\n",
       "      <td>979.000000</td>\n",
       "      <td>979.000000</td>\n",
       "      <td>979.000000</td>\n",
       "      <td>979.000000</td>\n",
       "      <td>979.000000</td>\n",
       "      <td>979.000000</td>\n",
       "      <td>979.000000</td>\n",
       "      <td>979.000000</td>\n",
       "      <td>979.000000</td>\n",
       "    </tr>\n",
       "    <tr>\n",
       "      <th>mean</th>\n",
       "      <td>1680.627171</td>\n",
       "      <td>140100.0</td>\n",
       "      <td>1085.026558</td>\n",
       "      <td>89.837589</td>\n",
       "      <td>68.582227</td>\n",
       "      <td>44.108274</td>\n",
       "      <td>1.503817</td>\n",
       "      <td>93.324821</td>\n",
       "      <td>64.570991</td>\n",
       "      <td>121.353422</td>\n",
       "      <td>42556.481103</td>\n",
       "    </tr>\n",
       "    <tr>\n",
       "      <th>std</th>\n",
       "      <td>949.704963</td>\n",
       "      <td>0.0</td>\n",
       "      <td>2.596858</td>\n",
       "      <td>44.422276</td>\n",
       "      <td>74.628693</td>\n",
       "      <td>22.138034</td>\n",
       "      <td>0.817447</td>\n",
       "      <td>50.177239</td>\n",
       "      <td>51.409736</td>\n",
       "      <td>75.676443</td>\n",
       "      <td>105.752723</td>\n",
       "    </tr>\n",
       "    <tr>\n",
       "      <th>min</th>\n",
       "      <td>1.000000</td>\n",
       "      <td>140100.0</td>\n",
       "      <td>1081.000000</td>\n",
       "      <td>17.000000</td>\n",
       "      <td>3.000000</td>\n",
       "      <td>2.000000</td>\n",
       "      <td>0.262000</td>\n",
       "      <td>1.000000</td>\n",
       "      <td>5.000000</td>\n",
       "      <td>8.000000</td>\n",
       "      <td>42370.000000</td>\n",
       "    </tr>\n",
       "    <tr>\n",
       "      <th>25%</th>\n",
       "      <td>880.000000</td>\n",
       "      <td>140100.0</td>\n",
       "      <td>1083.000000</td>\n",
       "      <td>64.000000</td>\n",
       "      <td>22.000000</td>\n",
       "      <td>30.000000</td>\n",
       "      <td>0.917500</td>\n",
       "      <td>56.000000</td>\n",
       "      <td>33.000000</td>\n",
       "      <td>70.000000</td>\n",
       "      <td>42467.500000</td>\n",
       "    </tr>\n",
       "    <tr>\n",
       "      <th>50%</th>\n",
       "      <td>1714.000000</td>\n",
       "      <td>140100.0</td>\n",
       "      <td>1085.000000</td>\n",
       "      <td>90.000000</td>\n",
       "      <td>46.000000</td>\n",
       "      <td>42.000000</td>\n",
       "      <td>1.379000</td>\n",
       "      <td>93.000000</td>\n",
       "      <td>54.000000</td>\n",
       "      <td>113.000000</td>\n",
       "      <td>42560.000000</td>\n",
       "    </tr>\n",
       "    <tr>\n",
       "      <th>75%</th>\n",
       "      <td>2518.500000</td>\n",
       "      <td>140100.0</td>\n",
       "      <td>1087.000000</td>\n",
       "      <td>96.000000</td>\n",
       "      <td>75.500000</td>\n",
       "      <td>54.000000</td>\n",
       "      <td>1.768500</td>\n",
       "      <td>124.500000</td>\n",
       "      <td>72.000000</td>\n",
       "      <td>143.500000</td>\n",
       "      <td>42649.000000</td>\n",
       "    </tr>\n",
       "    <tr>\n",
       "      <th>max</th>\n",
       "      <td>3258.000000</td>\n",
       "      <td>140100.0</td>\n",
       "      <td>1089.000000</td>\n",
       "      <td>361.000000</td>\n",
       "      <td>582.000000</td>\n",
       "      <td>141.000000</td>\n",
       "      <td>5.513000</td>\n",
       "      <td>303.000000</td>\n",
       "      <td>380.000000</td>\n",
       "      <td>497.000000</td>\n",
       "      <td>42735.000000</td>\n",
       "    </tr>\n",
       "  </tbody>\n",
       "</table>\n",
       "</div>"
      ],
      "text/plain": [
       "        Unnamed: 0  city_code  station_code         aqi     so2_24h  \\\n",
       "count   979.000000      979.0    979.000000  979.000000  979.000000   \n",
       "mean   1680.627171   140100.0   1085.026558   89.837589   68.582227   \n",
       "std     949.704963        0.0      2.596858   44.422276   74.628693   \n",
       "min       1.000000   140100.0   1081.000000   17.000000    3.000000   \n",
       "25%     880.000000   140100.0   1083.000000   64.000000   22.000000   \n",
       "50%    1714.000000   140100.0   1085.000000   90.000000   46.000000   \n",
       "75%    2518.500000   140100.0   1087.000000   96.000000   75.500000   \n",
       "max    3258.000000   140100.0   1089.000000  361.000000  582.000000   \n",
       "\n",
       "          no2_24h      co_24h      o3_24h   pm2_5_24h    pm10_24h  \\\n",
       "count  979.000000  979.000000  979.000000  979.000000  979.000000   \n",
       "mean    44.108274    1.503817   93.324821   64.570991  121.353422   \n",
       "std     22.138034    0.817447   50.177239   51.409736   75.676443   \n",
       "min      2.000000    0.262000    1.000000    5.000000    8.000000   \n",
       "25%     30.000000    0.917500   56.000000   33.000000   70.000000   \n",
       "50%     42.000000    1.379000   93.000000   54.000000  113.000000   \n",
       "75%     54.000000    1.768500  124.500000   72.000000  143.500000   \n",
       "max    141.000000    5.513000  303.000000  380.000000  497.000000   \n",
       "\n",
       "            pubtime  \n",
       "count    979.000000  \n",
       "mean   42556.481103  \n",
       "std      105.752723  \n",
       "min    42370.000000  \n",
       "25%    42467.500000  \n",
       "50%    42560.000000  \n",
       "75%    42649.000000  \n",
       "max    42735.000000  "
      ]
     },
     "execution_count": 13,
     "metadata": {},
     "output_type": "execute_result"
    }
   ],
   "source": [
    "test_df1=pd.read_csv('new_test_data.csv')\n",
    "test_df1.describe()"
   ]
  },
  {
   "cell_type": "code",
   "execution_count": 14,
   "metadata": {},
   "outputs": [
    {
     "data": {
      "text/plain": [
       "(2283, 9)"
      ]
     },
     "execution_count": 14,
     "metadata": {},
     "output_type": "execute_result"
    }
   ],
   "source": [
    "train.drop('aqi',axis=1, inplace=True)\n",
    "train.shape"
   ]
  },
  {
   "cell_type": "code",
   "execution_count": 15,
   "metadata": {},
   "outputs": [
    {
     "data": {
      "text/html": [
       "<div>\n",
       "<style>\n",
       "    .dataframe thead tr:only-child th {\n",
       "        text-align: right;\n",
       "    }\n",
       "\n",
       "    .dataframe thead th {\n",
       "        text-align: left;\n",
       "    }\n",
       "\n",
       "    .dataframe tbody tr th {\n",
       "        vertical-align: top;\n",
       "    }\n",
       "</style>\n",
       "<table border=\"1\" class=\"dataframe\">\n",
       "  <thead>\n",
       "    <tr style=\"text-align: right;\">\n",
       "      <th></th>\n",
       "      <th>city_code</th>\n",
       "      <th>station_code</th>\n",
       "      <th>so2_24h</th>\n",
       "      <th>no2_24h</th>\n",
       "      <th>co_24h</th>\n",
       "      <th>o3_24h</th>\n",
       "      <th>pm2_5_24h</th>\n",
       "      <th>pm10_24h</th>\n",
       "      <th>pubtime</th>\n",
       "    </tr>\n",
       "  </thead>\n",
       "  <tbody>\n",
       "    <tr>\n",
       "      <th>522</th>\n",
       "      <td>140100</td>\n",
       "      <td>1088</td>\n",
       "      <td>36</td>\n",
       "      <td>25</td>\n",
       "      <td>2.341</td>\n",
       "      <td>91</td>\n",
       "      <td>21</td>\n",
       "      <td>59</td>\n",
       "      <td>42423</td>\n",
       "    </tr>\n",
       "    <tr>\n",
       "      <th>210</th>\n",
       "      <td>140100</td>\n",
       "      <td>1084</td>\n",
       "      <td>99</td>\n",
       "      <td>30</td>\n",
       "      <td>2.367</td>\n",
       "      <td>59</td>\n",
       "      <td>64</td>\n",
       "      <td>97</td>\n",
       "      <td>42394</td>\n",
       "    </tr>\n",
       "    <tr>\n",
       "      <th>2014</th>\n",
       "      <td>140100</td>\n",
       "      <td>1088</td>\n",
       "      <td>24</td>\n",
       "      <td>70</td>\n",
       "      <td>1.039</td>\n",
       "      <td>210</td>\n",
       "      <td>58</td>\n",
       "      <td>114</td>\n",
       "      <td>42593</td>\n",
       "    </tr>\n",
       "    <tr>\n",
       "      <th>2157</th>\n",
       "      <td>140100</td>\n",
       "      <td>1087</td>\n",
       "      <td>20</td>\n",
       "      <td>46</td>\n",
       "      <td>0.846</td>\n",
       "      <td>87</td>\n",
       "      <td>16</td>\n",
       "      <td>70</td>\n",
       "      <td>42609</td>\n",
       "    </tr>\n",
       "    <tr>\n",
       "      <th>2522</th>\n",
       "      <td>140100</td>\n",
       "      <td>1083</td>\n",
       "      <td>8</td>\n",
       "      <td>16</td>\n",
       "      <td>0.630</td>\n",
       "      <td>80</td>\n",
       "      <td>16</td>\n",
       "      <td>30</td>\n",
       "      <td>42650</td>\n",
       "    </tr>\n",
       "  </tbody>\n",
       "</table>\n",
       "</div>"
      ],
      "text/plain": [
       "      city_code  station_code  so2_24h  no2_24h  co_24h  o3_24h  pm2_5_24h  \\\n",
       "522      140100          1088       36       25   2.341      91         21   \n",
       "210      140100          1084       99       30   2.367      59         64   \n",
       "2014     140100          1088       24       70   1.039     210         58   \n",
       "2157     140100          1087       20       46   0.846      87         16   \n",
       "2522     140100          1083        8       16   0.630      80         16   \n",
       "\n",
       "      pm10_24h  pubtime  \n",
       "522         59    42423  \n",
       "210         97    42394  \n",
       "2014       114    42593  \n",
       "2157        70    42609  \n",
       "2522        30    42650  "
      ]
     },
     "execution_count": 15,
     "metadata": {},
     "output_type": "execute_result"
    }
   ],
   "source": [
    "train.head(5)"
   ]
  },
  {
   "cell_type": "code",
   "execution_count": 16,
   "metadata": {},
   "outputs": [
    {
     "data": {
      "text/plain": [
       "Index(['city_code', 'station_code', 'aqi', 'so2_24h', 'no2_24h', 'co_24h',\n",
       "       'o3_24h', 'pm2_5_24h', 'pm10_24h', 'pubtime'],\n",
       "      dtype='object')"
      ]
     },
     "execution_count": 16,
     "metadata": {},
     "output_type": "execute_result"
    }
   ],
   "source": [
    "test.columns"
   ]
  },
  {
   "cell_type": "code",
   "execution_count": 17,
   "metadata": {},
   "outputs": [
    {
     "name": "stderr",
     "output_type": "stream",
     "text": [
      "C:\\Users\\Sohrab-PC\\Anaconda3\\lib\\site-packages\\ipykernel_launcher.py:1: SettingWithCopyWarning: \n",
      "A value is trying to be set on a copy of a slice from a DataFrame\n",
      "\n",
      "See the caveats in the documentation: http://pandas.pydata.org/pandas-docs/stable/indexing.html#indexing-view-versus-copy\n",
      "  \"\"\"Entry point for launching an IPython kernel.\n"
     ]
    },
    {
     "data": {
      "text/plain": [
       "(979, 9)"
      ]
     },
     "execution_count": 17,
     "metadata": {},
     "output_type": "execute_result"
    }
   ],
   "source": [
    "test.drop('aqi',axis=1, inplace=True)\n",
    "test.shape"
   ]
  },
  {
   "cell_type": "code",
   "execution_count": 18,
   "metadata": {
    "collapsed": true
   },
   "outputs": [],
   "source": [
    "from sklearn.tree import DecisionTreeRegressor\n",
    "rfc=DecisionTreeRegressor()"
   ]
  },
  {
   "cell_type": "code",
   "execution_count": 19,
   "metadata": {},
   "outputs": [
    {
     "data": {
      "text/plain": [
       "DecisionTreeRegressor(criterion='mse', max_depth=None, max_features=None,\n",
       "           max_leaf_nodes=None, min_impurity_split=1e-07,\n",
       "           min_samples_leaf=1, min_samples_split=2,\n",
       "           min_weight_fraction_leaf=0.0, presort=False, random_state=None,\n",
       "           splitter='best')"
      ]
     },
     "execution_count": 19,
     "metadata": {},
     "output_type": "execute_result"
    }
   ],
   "source": [
    "rfc.fit(train,response_vector.values.ravel())\n",
    "#rfc.fit(train,response_vector)\n"
   ]
  },
  {
   "cell_type": "code",
   "execution_count": 20,
   "metadata": {
    "collapsed": true
   },
   "outputs": [],
   "source": [
    "predict_rfc =rfc.predict(test)"
   ]
  },
  {
   "cell_type": "code",
   "execution_count": 21,
   "metadata": {},
   "outputs": [
    {
     "name": "stdout",
     "output_type": "stream",
     "text": [
      "[  65.   92.  122.  325.   70.  122.   96.  219.  154.   76.  101.   92.\n",
      "   92.  100.   92.   53.  169.   68.  105.   92.   44.   92.   92.   92.\n",
      "  181.   54.   92.   18.   42.  326.   76.   66.  115.   92.   54.   92.\n",
      "  308.  163.  115.   88.   92.  181.  308.  130.   30.   66.   92.   37.\n",
      "   36.   46.  109.  100.   66.   92.   63.   92.  151.   75.   60.   40.\n",
      "   44.   57.   85.  118.   74.   92.   86.   59.   80.  144.   54.   76.\n",
      "   69.   70.   93.   92.   49.  139.   92.   79.   95.  170.   95.   78.\n",
      "   57.   75.   42.   65.   55.   76.   37.  148.   98.  207.   92.   92.\n",
      "  138.   73.   90.   78.   53.   59.   36.   50.   92.  123.   82.   78.\n",
      "   82.   94.   49.   97.   92.   91.   41.   69.  124.   79.  100.   85.\n",
      "   59.   34.   77.   81.   91.   50.   96.   82.  102.   98.   61.   92.\n",
      "   51.   41.   92.  138.   74.  151.   29.   80.   43.   72.   65.   92.\n",
      "  205.  101.   92.  113.   59.   49.   92.   92.  107.   84.   72.  235.\n",
      "   80.   92.   76.   63.  254.   92.   56.   54.   74.  185.   44.   92.\n",
      "  105.   61.   48.  170.  136.   77.   56.   90.   86.   56.   67.   32.\n",
      "   80.   93.   92.   93.   76.   31.   66.  125.   27.   92.   92.   58.\n",
      "   99.   60.  102.  116.   92.   60.  120.   82.   92.   58.   97.  307.\n",
      "   92.  113.   35.   69.   92.   54.   53.  100.   37.   84.   92.   92.\n",
      "  172.   50.   68.   51.  134.   53.   80.   63.  125.  113.   68.   92.\n",
      "   97.   94.  131.  157.  109.   55.   88.   74.   49.   60.   92.   83.\n",
      "   77.   81.   86.   38.   62.   76.   92.  185.   92.   53.  110.   56.\n",
      "   92.   91.   68.  140.   92.   91.   92.  113.   92.   48.   66.  124.\n",
      "   95.  109.   92.  157.   72.   92.   86.   92.   92.   62.  116.   68.\n",
      "   73.   92.   92.   88.  239.   46.  115.  117.   55.   92.  255.   56.\n",
      "   70.   92.   92.   87.   91.   86.   70.   95.   49.   22.   92.   47.\n",
      "  115.   92.   62.  164.  204.   77.   52.   70.  170.   75.   59.   92.\n",
      "   78.   44.   23.   80.   87.   96.   92.   69.  131.   54.   92.   92.\n",
      "   44.   92.  119.   92.   67.   92.   86.   92.   91.   61.   45.   70.\n",
      "   94.   58.   92.   92.   33.  119.   84.  133.  132.   92.  110.  101.\n",
      "   84.   49.   56.  116.   85.  123.   58.   23.   89.   47.   73.  100.\n",
      "  144.   36.  102.   69.   79.   84.   51.   92.   95.   86.  143.   38.\n",
      "   92.   92.   92.  105.   83.   92.   98.   63.   70.  236.   78.   71.\n",
      "   51.   92.   22.   63.   87.   17.   46.   46.  122.   52.   41.  140.\n",
      "   77.   53.  122.   32.  109.   73.   51.   36.   26.  129.   92.  118.\n",
      "  214.   73.   31.   92.  294.   57.   54.   67.   47.  134.   91.  117.\n",
      "   92.   86.   78.   94.  113.   63.   92.   92.  249.   66.   35.  121.\n",
      "   23.  101.   77.   72.   80.  254.   50.   86.  160.   87.  207.  102.\n",
      "   57.   47.   81.   87.   64.   82.   92.   92.   76.   22.   92.  151.\n",
      "  111.   92.  255.   77.   85.   70.   87.   92.  110.  166.   92.   32.\n",
      "  115.   50.   58.   92.   92.  158.   92.  165.  110.   92.  159.   66.\n",
      "   73.   92.  326.   92.   93.   92.   92.   90.  102.   43.   19.   58.\n",
      "   93.   63.   92.  109.   35.   69.  105.   85.   61.   55.   78.  124.\n",
      "  130.   92.   63.   76.   92.   92.   92.   94.   33.   92.   62.   28.\n",
      "   92.   94.   88.   95.   92.   52.   37.   93.   92.   89.  134.  101.\n",
      "   87.  158.   92.   62.   63.   81.   57.  150.   92.   92.   36.   92.\n",
      "   92.   92.   92.   77.   53.   92.   92.   88.  102.   92.   57.   42.\n",
      "   76.   70.   92.   91.  117.   50.   77.   62.   96.  146.   43.   33.\n",
      "   70.  109.   53.  122.  123.  113.   92.  113.  109.   66.   92.   92.\n",
      "   57.   92.  103.   66.   95.   55.  172.   38.   78.   74.  158.   96.\n",
      "   92.  185.   92.   53.   57.   85.   92.  188.   92.  150.   46.   42.\n",
      "   85.   58.   40.  126.   66.   98.   92.   78.  161.   92.   92.   92.\n",
      "  178.   74.   33.   81.   84.  207.  111.   41.   77.  109.   93.   78.\n",
      "  122.   92.   54.   68.   95.  119.   92.   92.   59.   92.   32.   44.\n",
      "  108.   49.   55.   92.   21.   92.   92.   79.   73.   92.  111.   27.\n",
      "   52.   54.   34.   36.  116.   74.  159.  126.   56.  219.   23.   63.\n",
      "  104.  145.   63.   64.  115.   82.   48.   44.   69.   92.   74.   83.\n",
      "   54.   26.   92.   92.   80.  119.   57.   75.   92.   41.  212.   92.\n",
      "   50.   92.  100.   86.  110.   51.   78.  164.  175.   92.   97.   77.\n",
      "  122.   69.   90.  108.   92.   92.  122.   84.   78.   75.   92.   63.\n",
      "   58.   73.   92.   95.   92.   73.   73.   56.   45.   89.   92.  116.\n",
      "   51.   92.  114.   93.   92.   92.   43.   73.   71.   94.   45.   81.\n",
      "   57.  100.  129.   92.  307.   99.   34.  171.   26.  100.   92.  101.\n",
      "  102.  133.   92.   84.   50.   85.  120.   94.   54.   32.   91.  103.\n",
      "  115.   41.   23.   92.   65.   63.   44.   43.   67.   59.  116.   99.\n",
      "   92.   80.   85.   47.   49.  111.   85.   29.   73.   92.   73.   91.\n",
      "  117.  110.   77.   92.   55.   64.   88.  119.  117.   65.   38.   36.\n",
      "  100.   92.   50.  100.  157.   92.   92.  125.   40.   46.  101.  308.\n",
      "   67.   93.   92.   85.  184.   49.   47.  185.   80.   78.   95.   55.\n",
      "   31.   86.  126.   92.  307.   83.   75.   41.   92.   47.   56.   43.\n",
      "   67.  187.   36.   95.   92.  109.   82.  113.   56.   79.   38.  100.\n",
      "   72.   92.   92.   43.  113.   46.   92.   63.  122.  111.   86.   92.\n",
      "   70.   91.   81.   88.   92.   76.  110.   92.   78.   77.  106.   25.\n",
      "   92.   43.   47.   72.   74.  140.   92.   92.   95.   78.   32.   38.\n",
      "  155.  212.   64.  116.   84.  214.   76.  121.   85.   83.   92.   54.\n",
      "   32.   73.   80.   85.  307.   92.   92.   64.  113.  106.   42.   43.\n",
      "   65.   91.   99.   99.   83.   92.   84.  114.   92.   92.   52.  358.\n",
      "   92.  130.   93.   92.   92.  107.  160.   92.  108.  100.   58.   92.\n",
      "  229.  110.   93.   92.   92.   83.   68.   66.  111.   90.   30.  130.\n",
      "   55.  185.  113.   49.  308.   92.   86.  122.   92.   66.   74.   77.\n",
      "  117.   56.   77.   92.   64.  115.   61.   53.  124.   63.   90.   37.\n",
      "   74.   77.  109.   74.   92.  116.   75.   51.   41.   92.   60.   51.\n",
      "  141.   92.   92.   92.   92.   65.   73.]\n"
     ]
    }
   ],
   "source": [
    "predict_rfc.shape\n",
    "print(predict_rfc)"
   ]
  },
  {
   "cell_type": "code",
   "execution_count": 22,
   "metadata": {},
   "outputs": [
    {
     "data": {
      "text/plain": [
       "array([ 2.70888662])"
      ]
     },
     "execution_count": 22,
     "metadata": {},
     "output_type": "execute_result"
    }
   ],
   "source": [
    "#accuracy_score(test_df1.aqi,predict_rfc)\n",
    "#accuracy_score(test_df1.aqi,predict_rfc.round(), normalize=False)\n",
    "from sklearn.metrics import mean_absolute_error\n",
    "mean_absolute_error(test_df1.aqi,predict_rfc, multioutput='raw_values')\n",
    "#mean_absolute_error(test_df1.aqi,predict_rfc.round())\n",
    "#mean_absolute_error(test_df1.aqi,predict_rfc.round(),multioutput=[0.3, 0.7])"
   ]
  },
  {
   "cell_type": "code",
   "execution_count": 23,
   "metadata": {},
   "outputs": [
    {
     "name": "stdout",
     "output_type": "stream",
     "text": [
      "97.29111338100103\n",
      "96.7651145406\n"
     ]
    }
   ],
   "source": [
    "#print(classification_report(test_df1.aqi,predict_rfc))\n",
    "#print(test_df1)\n",
    "#print(predict_rfc)\n",
    "\n",
    "c=0\n",
    "import math\n",
    "predictionsArr = np.asarray(predict_rfc, dtype=\"|f8\")\n",
    "realArr = np.asarray(test_df1.aqi, dtype=\"|f8\")\n",
    "\n",
    "for x in range(0,len(predictionsArr)):\n",
    "    c += math.fabs((predictionsArr[x]-realArr[x]))\n",
    "print(100 - c/len(predict_rfc))\n",
    "c=0\n",
    "for x in range(0,len(predictionsArr)):\n",
    "    c += (math.fabs((predictionsArr[x]-realArr[x]))/realArr[x])*100\n",
    "print(100 - c/len(predict_rfc))"
   ]
  }
 ],
 "metadata": {
  "anaconda-cloud": {},
  "kernelspec": {
   "display_name": "Python 2",
   "language": "python",
   "name": "python2"
  },
  "language_info": {
   "codemirror_mode": {
    "name": "ipython",
    "version": 2
   },
   "file_extension": ".py",
   "mimetype": "text/x-python",
   "name": "python",
   "nbconvert_exporter": "python",
   "pygments_lexer": "ipython2",
   "version": "2.7.11"
  }
 },
 "nbformat": 4,
 "nbformat_minor": 1
}
