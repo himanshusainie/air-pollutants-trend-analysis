{
 "cells": [
  {
   "cell_type": "code",
   "execution_count": 1,
   "metadata": {},
   "outputs": [
    {
     "name": "stderr",
     "output_type": "stream",
     "text": [
      "C:\\Users\\Sohrab-PC\\Anaconda3\\lib\\site-packages\\sklearn\\cross_validation.py:44: DeprecationWarning: This module was deprecated in version 0.18 in favor of the model_selection module into which all the refactored classes and functions are moved. Also note that the interface of the new CV iterators are different from that of this module. This module will be removed in 0.20.\n",
      "  \"This module will be removed in 0.20.\", DeprecationWarning)\n"
     ]
    }
   ],
   "source": [
    "import pandas as pd\n",
    "from sklearn.cross_validation import train_test_split\n",
    "from sklearn.datasets import make_classification\n",
    "#from sklearn.ensemble import DecisionTreeRegressor\n",
    "from sklearn.metrics import classification_report\n",
    "from sklearn.metrics import accuracy_score\n",
    "import numpy as np\n",
    "import string\n",
    "import csv\n",
    "import sys"
   ]
  },
  {
   "cell_type": "code",
   "execution_count": 2,
   "metadata": {
    "collapsed": true
   },
   "outputs": [],
   "source": [
    "kdd_info = pd.read_csv('Original.csv')"
   ]
  },
  {
   "cell_type": "code",
   "execution_count": 3,
   "metadata": {},
   "outputs": [
    {
     "data": {
      "text/plain": [
       "province        3262\n",
       "city            3262\n",
       "city_code       3262\n",
       "station         3262\n",
       "station_code    3262\n",
       "aqi             2657\n",
       "so2_24h         2929\n",
       "no2_24h         2929\n",
       "co_24h          2929\n",
       "o3_24h          2909\n",
       "o3_8h_24h       2909\n",
       "pm2_5_24h       2929\n",
       "pm10_24h        2929\n",
       "pubtime         3262\n",
       "dtype: int64"
      ]
     },
     "execution_count": 3,
     "metadata": {},
     "output_type": "execute_result"
    }
   ],
   "source": [
    "kdd_info.head()\n",
    "kdd_info.count()"
   ]
  },
  {
   "cell_type": "code",
   "execution_count": 4,
   "metadata": {},
   "outputs": [
    {
     "data": {
      "text/html": [
       "<div>\n",
       "<style>\n",
       "    .dataframe thead tr:only-child th {\n",
       "        text-align: right;\n",
       "    }\n",
       "\n",
       "    .dataframe thead th {\n",
       "        text-align: left;\n",
       "    }\n",
       "\n",
       "    .dataframe tbody tr th {\n",
       "        vertical-align: top;\n",
       "    }\n",
       "</style>\n",
       "<table border=\"1\" class=\"dataframe\">\n",
       "  <thead>\n",
       "    <tr style=\"text-align: right;\">\n",
       "      <th></th>\n",
       "      <th>city_code</th>\n",
       "      <th>station_code</th>\n",
       "      <th>aqi</th>\n",
       "      <th>so2_24h</th>\n",
       "      <th>no2_24h</th>\n",
       "      <th>co_24h</th>\n",
       "      <th>o3_24h</th>\n",
       "      <th>o3_8h_24h</th>\n",
       "      <th>pm2_5_24h</th>\n",
       "      <th>pm10_24h</th>\n",
       "      <th>pubtime</th>\n",
       "    </tr>\n",
       "  </thead>\n",
       "  <tbody>\n",
       "    <tr>\n",
       "      <th>count</th>\n",
       "      <td>3262.0</td>\n",
       "      <td>3262.000000</td>\n",
       "      <td>2657.000000</td>\n",
       "      <td>2929.000000</td>\n",
       "      <td>2929.000000</td>\n",
       "      <td>2929.000000</td>\n",
       "      <td>2909.000000</td>\n",
       "      <td>2909.000000</td>\n",
       "      <td>2929.000000</td>\n",
       "      <td>2929.000000</td>\n",
       "      <td>3262.000000</td>\n",
       "    </tr>\n",
       "    <tr>\n",
       "      <th>mean</th>\n",
       "      <td>140100.0</td>\n",
       "      <td>1085.021153</td>\n",
       "      <td>87.702296</td>\n",
       "      <td>65.141004</td>\n",
       "      <td>42.379993</td>\n",
       "      <td>1.461304</td>\n",
       "      <td>93.973874</td>\n",
       "      <td>77.340323</td>\n",
       "      <td>62.843974</td>\n",
       "      <td>117.454763</td>\n",
       "      <td>42550.908645</td>\n",
       "    </tr>\n",
       "    <tr>\n",
       "      <th>std</th>\n",
       "      <td>0.0</td>\n",
       "      <td>2.579110</td>\n",
       "      <td>48.511168</td>\n",
       "      <td>73.739968</td>\n",
       "      <td>22.691550</td>\n",
       "      <td>0.860172</td>\n",
       "      <td>52.512336</td>\n",
       "      <td>44.937987</td>\n",
       "      <td>53.403633</td>\n",
       "      <td>77.080604</td>\n",
       "      <td>104.941176</td>\n",
       "    </tr>\n",
       "    <tr>\n",
       "      <th>min</th>\n",
       "      <td>140100.0</td>\n",
       "      <td>1081.000000</td>\n",
       "      <td>0.000000</td>\n",
       "      <td>0.000000</td>\n",
       "      <td>0.000000</td>\n",
       "      <td>0.000000</td>\n",
       "      <td>1.000000</td>\n",
       "      <td>1.000000</td>\n",
       "      <td>0.000000</td>\n",
       "      <td>0.000000</td>\n",
       "      <td>42370.000000</td>\n",
       "    </tr>\n",
       "    <tr>\n",
       "      <th>25%</th>\n",
       "      <td>140100.0</td>\n",
       "      <td>1083.000000</td>\n",
       "      <td>56.000000</td>\n",
       "      <td>19.000000</td>\n",
       "      <td>27.000000</td>\n",
       "      <td>0.854000</td>\n",
       "      <td>53.000000</td>\n",
       "      <td>41.000000</td>\n",
       "      <td>28.000000</td>\n",
       "      <td>64.000000</td>\n",
       "      <td>42460.000000</td>\n",
       "    </tr>\n",
       "    <tr>\n",
       "      <th>50%</th>\n",
       "      <td>140100.0</td>\n",
       "      <td>1085.000000</td>\n",
       "      <td>78.000000</td>\n",
       "      <td>36.000000</td>\n",
       "      <td>39.000000</td>\n",
       "      <td>1.236000</td>\n",
       "      <td>85.000000</td>\n",
       "      <td>73.000000</td>\n",
       "      <td>48.000000</td>\n",
       "      <td>101.000000</td>\n",
       "      <td>42551.000000</td>\n",
       "    </tr>\n",
       "    <tr>\n",
       "      <th>75%</th>\n",
       "      <td>140100.0</td>\n",
       "      <td>1087.000000</td>\n",
       "      <td>106.000000</td>\n",
       "      <td>81.000000</td>\n",
       "      <td>54.000000</td>\n",
       "      <td>1.841000</td>\n",
       "      <td>128.000000</td>\n",
       "      <td>106.000000</td>\n",
       "      <td>77.000000</td>\n",
       "      <td>148.000000</td>\n",
       "      <td>42641.000000</td>\n",
       "    </tr>\n",
       "    <tr>\n",
       "      <th>max</th>\n",
       "      <td>140100.0</td>\n",
       "      <td>1089.000000</td>\n",
       "      <td>361.000000</td>\n",
       "      <td>582.000000</td>\n",
       "      <td>141.000000</td>\n",
       "      <td>5.513000</td>\n",
       "      <td>303.000000</td>\n",
       "      <td>232.000000</td>\n",
       "      <td>414.000000</td>\n",
       "      <td>541.000000</td>\n",
       "      <td>42735.000000</td>\n",
       "    </tr>\n",
       "  </tbody>\n",
       "</table>\n",
       "</div>"
      ],
      "text/plain": [
       "       city_code  station_code          aqi      so2_24h      no2_24h  \\\n",
       "count     3262.0   3262.000000  2657.000000  2929.000000  2929.000000   \n",
       "mean    140100.0   1085.021153    87.702296    65.141004    42.379993   \n",
       "std          0.0      2.579110    48.511168    73.739968    22.691550   \n",
       "min     140100.0   1081.000000     0.000000     0.000000     0.000000   \n",
       "25%     140100.0   1083.000000    56.000000    19.000000    27.000000   \n",
       "50%     140100.0   1085.000000    78.000000    36.000000    39.000000   \n",
       "75%     140100.0   1087.000000   106.000000    81.000000    54.000000   \n",
       "max     140100.0   1089.000000   361.000000   582.000000   141.000000   \n",
       "\n",
       "            co_24h       o3_24h    o3_8h_24h    pm2_5_24h     pm10_24h  \\\n",
       "count  2929.000000  2909.000000  2909.000000  2929.000000  2929.000000   \n",
       "mean      1.461304    93.973874    77.340323    62.843974   117.454763   \n",
       "std       0.860172    52.512336    44.937987    53.403633    77.080604   \n",
       "min       0.000000     1.000000     1.000000     0.000000     0.000000   \n",
       "25%       0.854000    53.000000    41.000000    28.000000    64.000000   \n",
       "50%       1.236000    85.000000    73.000000    48.000000   101.000000   \n",
       "75%       1.841000   128.000000   106.000000    77.000000   148.000000   \n",
       "max       5.513000   303.000000   232.000000   414.000000   541.000000   \n",
       "\n",
       "            pubtime  \n",
       "count   3262.000000  \n",
       "mean   42550.908645  \n",
       "std      104.941176  \n",
       "min    42370.000000  \n",
       "25%    42460.000000  \n",
       "50%    42551.000000  \n",
       "75%    42641.000000  \n",
       "max    42735.000000  "
      ]
     },
     "execution_count": 4,
     "metadata": {},
     "output_type": "execute_result"
    }
   ],
   "source": [
    "kdd_info.describe()"
   ]
  },
  {
   "cell_type": "code",
   "execution_count": 5,
   "metadata": {},
   "outputs": [
    {
     "data": {
      "text/plain": [
       "city_code       3262\n",
       "station_code    3262\n",
       "aqi             2657\n",
       "so2_24h         2929\n",
       "no2_24h         2929\n",
       "co_24h          2929\n",
       "o3_24h          2909\n",
       "pm2_5_24h       2929\n",
       "pm10_24h        2929\n",
       "pubtime         3262\n",
       "dtype: int64"
      ]
     },
     "execution_count": 5,
     "metadata": {},
     "output_type": "execute_result"
    }
   ],
   "source": [
    "kdd_info.shape\n",
    "#train.drop('aqi',axis=1, inplace=True)\n",
    "#kdd_info.drop('pubtime', axis=1, inplace=True)\n",
    "#kdd_info.drop('city_code', axis=1, inplace=True)\n",
    "#kdd_info.drop('station_code', axis=1, inplace=True)\n",
    "kdd_info.drop('station', axis=1, inplace=True)\n",
    "kdd_info.drop('city', axis=1, inplace=True)\n",
    "kdd_info.drop('province', axis=1, inplace=True)\n",
    "kdd_info.drop('o3_8h_24h', axis=1, inplace=True)\n",
    "kdd_info.count()"
   ]
  },
  {
   "cell_type": "code",
   "execution_count": 6,
   "metadata": {},
   "outputs": [
    {
     "data": {
      "text/plain": [
       "\"\\nfrom sklearn.preprocessing import Imputer\\n\\nimp = Imputer(missing_values='NaN', strategy='mean', axis=1)\\n#imputed_DF = pd.DataFrame(imp.fit_transform(kdd_info))\\nimputed_DF['aqi'] = pd.DataFrame(imp.fit_transform(imputed_DF['aqi']).ravel())\\nimputed_DF['so2_24h'] = pd.DataFrame(imp.fit_transform(imputed_DF['so2_24h']).ravel())\\nimputed_DF['no2_24h'] = pd.DataFrame(imp.fit_transform(imputed_DF['no2_24h']).ravel())\\nimputed_DF['co_24h'] = pd.DataFrame(imp.fit_transform(imputed_DF['co_24h']).ravel())\\nimputed_DF['o3_24h'] = pd.DataFrame(imp.fit_transform(imputed_DF['o3_24h']).ravel())\\nimputed_DF['pm2_5_24h'] = pd.DataFrame(imp.fit_transform(imputed_DF['pm2_5_24h']).ravel())\\nimputed_DF['pm10_24h'] = pd.DataFrame(imp.fit_transform(imputed_DF['pm10_24h']).ravel())\\n\\n#Converting float pubtime to DateTime format\\n#imputed_DF['pubtime'] = pd.to_datetime(imputed_DF['pubtime'], format='%m/%d/%Y')\\n#imputed_DF['pubtime'] = imputed_DF['pubtime'].dt.total_seconds()\\n\\nimputed_DF.columns = kdd_info.columns\\nimputed_DF.index = kdd_info.index\\nimputed_DF.count()\\nimputed_DF.count()\\n\\n#kdd_info.describe()\\n\""
      ]
     },
     "execution_count": 6,
     "metadata": {},
     "output_type": "execute_result"
    }
   ],
   "source": [
    "imputed_DF = kdd_info\n",
    "imputed_DF = imputed_DF.dropna()\n",
    "'''\n",
    "from sklearn.preprocessing import Imputer\n",
    "\n",
    "imp = Imputer(missing_values='NaN', strategy='mean', axis=1)\n",
    "#imputed_DF = pd.DataFrame(imp.fit_transform(kdd_info))\n",
    "imputed_DF['aqi'] = pd.DataFrame(imp.fit_transform(imputed_DF['aqi']).ravel())\n",
    "imputed_DF['so2_24h'] = pd.DataFrame(imp.fit_transform(imputed_DF['so2_24h']).ravel())\n",
    "imputed_DF['no2_24h'] = pd.DataFrame(imp.fit_transform(imputed_DF['no2_24h']).ravel())\n",
    "imputed_DF['co_24h'] = pd.DataFrame(imp.fit_transform(imputed_DF['co_24h']).ravel())\n",
    "imputed_DF['o3_24h'] = pd.DataFrame(imp.fit_transform(imputed_DF['o3_24h']).ravel())\n",
    "imputed_DF['pm2_5_24h'] = pd.DataFrame(imp.fit_transform(imputed_DF['pm2_5_24h']).ravel())\n",
    "imputed_DF['pm10_24h'] = pd.DataFrame(imp.fit_transform(imputed_DF['pm10_24h']).ravel())\n",
    "\n",
    "#Converting float pubtime to DateTime format\n",
    "#imputed_DF['pubtime'] = pd.to_datetime(imputed_DF['pubtime'], format='%m/%d/%Y')\n",
    "#imputed_DF['pubtime'] = imputed_DF['pubtime'].dt.total_seconds()\n",
    "\n",
    "imputed_DF.columns = kdd_info.columns\n",
    "imputed_DF.index = kdd_info.index\n",
    "imputed_DF.count()\n",
    "imputed_DF.count()\n",
    "\n",
    "#kdd_info.describe()\n",
    "'''"
   ]
  },
  {
   "cell_type": "code",
   "execution_count": 7,
   "metadata": {},
   "outputs": [
    {
     "data": {
      "text/plain": [
       "city_code       2637\n",
       "station_code    2637\n",
       "aqi             2637\n",
       "so2_24h         2637\n",
       "no2_24h         2637\n",
       "co_24h          2637\n",
       "o3_24h          2637\n",
       "pm2_5_24h       2637\n",
       "pm10_24h        2637\n",
       "pubtime         2637\n",
       "dtype: int64"
      ]
     },
     "execution_count": 7,
     "metadata": {},
     "output_type": "execute_result"
    }
   ],
   "source": [
    "imputed_DF.count()"
   ]
  },
  {
   "cell_type": "code",
   "execution_count": 8,
   "metadata": {
    "collapsed": true
   },
   "outputs": [],
   "source": [
    "train, test = train_test_split(imputed_DF, test_size = 0.3)\n",
    "\n",
    "train.to_csv('new1_train_data.csv')\n",
    "test.to_csv('new_test_data.csv')"
   ]
  },
  {
   "cell_type": "code",
   "execution_count": 9,
   "metadata": {},
   "outputs": [
    {
     "data": {
      "text/plain": [
       "(1845, 10)"
      ]
     },
     "execution_count": 9,
     "metadata": {},
     "output_type": "execute_result"
    }
   ],
   "source": [
    "train.shape"
   ]
  },
  {
   "cell_type": "code",
   "execution_count": 10,
   "metadata": {},
   "outputs": [
    {
     "data": {
      "text/plain": [
       "(1845, 10)"
      ]
     },
     "execution_count": 10,
     "metadata": {},
     "output_type": "execute_result"
    }
   ],
   "source": [
    "train = train.dropna()\n",
    "train.shape"
   ]
  },
  {
   "cell_type": "code",
   "execution_count": 11,
   "metadata": {},
   "outputs": [
    {
     "data": {
      "text/html": [
       "<div>\n",
       "<style>\n",
       "    .dataframe thead tr:only-child th {\n",
       "        text-align: right;\n",
       "    }\n",
       "\n",
       "    .dataframe thead th {\n",
       "        text-align: left;\n",
       "    }\n",
       "\n",
       "    .dataframe tbody tr th {\n",
       "        vertical-align: top;\n",
       "    }\n",
       "</style>\n",
       "<table border=\"1\" class=\"dataframe\">\n",
       "  <thead>\n",
       "    <tr style=\"text-align: right;\">\n",
       "      <th></th>\n",
       "      <th>city_code</th>\n",
       "      <th>station_code</th>\n",
       "      <th>aqi</th>\n",
       "      <th>so2_24h</th>\n",
       "      <th>no2_24h</th>\n",
       "      <th>co_24h</th>\n",
       "      <th>o3_24h</th>\n",
       "      <th>pm2_5_24h</th>\n",
       "      <th>pm10_24h</th>\n",
       "      <th>pubtime</th>\n",
       "    </tr>\n",
       "  </thead>\n",
       "  <tbody>\n",
       "    <tr>\n",
       "      <th>434</th>\n",
       "      <td>140100</td>\n",
       "      <td>1086</td>\n",
       "      <td>43.0</td>\n",
       "      <td>75.0</td>\n",
       "      <td>39.0</td>\n",
       "      <td>3.109</td>\n",
       "      <td>45.0</td>\n",
       "      <td>27.0</td>\n",
       "      <td>45.0</td>\n",
       "      <td>42401</td>\n",
       "    </tr>\n",
       "    <tr>\n",
       "      <th>1202</th>\n",
       "      <td>140100</td>\n",
       "      <td>1086</td>\n",
       "      <td>78.0</td>\n",
       "      <td>36.0</td>\n",
       "      <td>42.0</td>\n",
       "      <td>0.711</td>\n",
       "      <td>100.0</td>\n",
       "      <td>37.0</td>\n",
       "      <td>106.0</td>\n",
       "      <td>42503</td>\n",
       "    </tr>\n",
       "    <tr>\n",
       "      <th>1790</th>\n",
       "      <td>140100</td>\n",
       "      <td>1089</td>\n",
       "      <td>63.0</td>\n",
       "      <td>13.0</td>\n",
       "      <td>32.0</td>\n",
       "      <td>1.167</td>\n",
       "      <td>189.0</td>\n",
       "      <td>29.0</td>\n",
       "      <td>58.0</td>\n",
       "      <td>42568</td>\n",
       "    </tr>\n",
       "    <tr>\n",
       "      <th>1577</th>\n",
       "      <td>140100</td>\n",
       "      <td>1083</td>\n",
       "      <td>32.0</td>\n",
       "      <td>16.0</td>\n",
       "      <td>11.0</td>\n",
       "      <td>0.349</td>\n",
       "      <td>100.0</td>\n",
       "      <td>12.0</td>\n",
       "      <td>30.0</td>\n",
       "      <td>42545</td>\n",
       "    </tr>\n",
       "    <tr>\n",
       "      <th>737</th>\n",
       "      <td>140100</td>\n",
       "      <td>1089</td>\n",
       "      <td>161.0</td>\n",
       "      <td>81.0</td>\n",
       "      <td>66.0</td>\n",
       "      <td>2.115</td>\n",
       "      <td>91.0</td>\n",
       "      <td>122.0</td>\n",
       "      <td>196.0</td>\n",
       "      <td>42451</td>\n",
       "    </tr>\n",
       "  </tbody>\n",
       "</table>\n",
       "</div>"
      ],
      "text/plain": [
       "      city_code  station_code    aqi  so2_24h  no2_24h  co_24h  o3_24h  \\\n",
       "434      140100          1086   43.0     75.0     39.0   3.109    45.0   \n",
       "1202     140100          1086   78.0     36.0     42.0   0.711   100.0   \n",
       "1790     140100          1089   63.0     13.0     32.0   1.167   189.0   \n",
       "1577     140100          1083   32.0     16.0     11.0   0.349   100.0   \n",
       "737      140100          1089  161.0     81.0     66.0   2.115    91.0   \n",
       "\n",
       "      pm2_5_24h  pm10_24h  pubtime  \n",
       "434        27.0      45.0    42401  \n",
       "1202       37.0     106.0    42503  \n",
       "1790       29.0      58.0    42568  \n",
       "1577       12.0      30.0    42545  \n",
       "737       122.0     196.0    42451  "
      ]
     },
     "execution_count": 11,
     "metadata": {},
     "output_type": "execute_result"
    }
   ],
   "source": [
    "train.head(5)"
   ]
  },
  {
   "cell_type": "code",
   "execution_count": 12,
   "metadata": {
    "scrolled": false
   },
   "outputs": [
    {
     "data": {
      "text/plain": [
       "Index(['city_code', 'station_code', 'aqi', 'so2_24h', 'no2_24h', 'co_24h',\n",
       "       'o3_24h', 'pm2_5_24h', 'pm10_24h', 'pubtime'],\n",
       "      dtype='object')"
      ]
     },
     "execution_count": 12,
     "metadata": {},
     "output_type": "execute_result"
    }
   ],
   "source": [
    "train.columns"
   ]
  },
  {
   "cell_type": "code",
   "execution_count": 13,
   "metadata": {},
   "outputs": [
    {
     "data": {
      "text/plain": [
       "aqi    1845\n",
       "dtype: int64"
      ]
     },
     "execution_count": 13,
     "metadata": {},
     "output_type": "execute_result"
    }
   ],
   "source": [
    "# creating response vector to train our model\n",
    "#response_vector=pd.DataFrame(np.array(train['aqi']),columns=['aqi'])\n",
    "response_vector=pd.DataFrame(train['aqi'],columns=['aqi'])\n",
    "response_vector.loc[response_vector['aqi']==1]\n",
    "response_vector.head(30)\n",
    "response_vector.count()"
   ]
  },
  {
   "cell_type": "code",
   "execution_count": 14,
   "metadata": {},
   "outputs": [
    {
     "data": {
      "text/html": [
       "<div>\n",
       "<style>\n",
       "    .dataframe thead tr:only-child th {\n",
       "        text-align: right;\n",
       "    }\n",
       "\n",
       "    .dataframe thead th {\n",
       "        text-align: left;\n",
       "    }\n",
       "\n",
       "    .dataframe tbody tr th {\n",
       "        vertical-align: top;\n",
       "    }\n",
       "</style>\n",
       "<table border=\"1\" class=\"dataframe\">\n",
       "  <thead>\n",
       "    <tr style=\"text-align: right;\">\n",
       "      <th></th>\n",
       "      <th>Unnamed: 0</th>\n",
       "      <th>city_code</th>\n",
       "      <th>station_code</th>\n",
       "      <th>aqi</th>\n",
       "      <th>so2_24h</th>\n",
       "      <th>no2_24h</th>\n",
       "      <th>co_24h</th>\n",
       "      <th>o3_24h</th>\n",
       "      <th>pm2_5_24h</th>\n",
       "      <th>pm10_24h</th>\n",
       "      <th>pubtime</th>\n",
       "    </tr>\n",
       "  </thead>\n",
       "  <tbody>\n",
       "    <tr>\n",
       "      <th>count</th>\n",
       "      <td>792.000000</td>\n",
       "      <td>792.0</td>\n",
       "      <td>792.000000</td>\n",
       "      <td>792.000000</td>\n",
       "      <td>792.000000</td>\n",
       "      <td>792.000000</td>\n",
       "      <td>792.000000</td>\n",
       "      <td>792.000000</td>\n",
       "      <td>792.000000</td>\n",
       "      <td>792.000000</td>\n",
       "      <td>792.000000</td>\n",
       "    </tr>\n",
       "    <tr>\n",
       "      <th>mean</th>\n",
       "      <td>1463.152778</td>\n",
       "      <td>140100.0</td>\n",
       "      <td>1085.273990</td>\n",
       "      <td>88.467172</td>\n",
       "      <td>56.385101</td>\n",
       "      <td>39.790404</td>\n",
       "      <td>1.385231</td>\n",
       "      <td>98.376263</td>\n",
       "      <td>54.948232</td>\n",
       "      <td>109.820707</td>\n",
       "      <td>42532.238636</td>\n",
       "    </tr>\n",
       "    <tr>\n",
       "      <th>std</th>\n",
       "      <td>879.936441</td>\n",
       "      <td>0.0</td>\n",
       "      <td>2.416113</td>\n",
       "      <td>49.870289</td>\n",
       "      <td>63.320903</td>\n",
       "      <td>21.127187</td>\n",
       "      <td>0.796800</td>\n",
       "      <td>52.183498</td>\n",
       "      <td>42.566478</td>\n",
       "      <td>70.414957</td>\n",
       "      <td>97.649234</td>\n",
       "    </tr>\n",
       "    <tr>\n",
       "      <th>min</th>\n",
       "      <td>2.000000</td>\n",
       "      <td>140100.0</td>\n",
       "      <td>1081.000000</td>\n",
       "      <td>19.000000</td>\n",
       "      <td>3.000000</td>\n",
       "      <td>2.000000</td>\n",
       "      <td>0.183000</td>\n",
       "      <td>1.000000</td>\n",
       "      <td>4.000000</td>\n",
       "      <td>8.000000</td>\n",
       "      <td>42370.000000</td>\n",
       "    </tr>\n",
       "    <tr>\n",
       "      <th>25%</th>\n",
       "      <td>673.750000</td>\n",
       "      <td>140100.0</td>\n",
       "      <td>1083.000000</td>\n",
       "      <td>54.750000</td>\n",
       "      <td>18.000000</td>\n",
       "      <td>25.000000</td>\n",
       "      <td>0.828750</td>\n",
       "      <td>59.000000</td>\n",
       "      <td>25.000000</td>\n",
       "      <td>59.750000</td>\n",
       "      <td>42444.750000</td>\n",
       "    </tr>\n",
       "    <tr>\n",
       "      <th>50%</th>\n",
       "      <td>1473.500000</td>\n",
       "      <td>140100.0</td>\n",
       "      <td>1085.000000</td>\n",
       "      <td>78.500000</td>\n",
       "      <td>33.500000</td>\n",
       "      <td>38.000000</td>\n",
       "      <td>1.174500</td>\n",
       "      <td>88.000000</td>\n",
       "      <td>44.000000</td>\n",
       "      <td>95.000000</td>\n",
       "      <td>42533.500000</td>\n",
       "    </tr>\n",
       "    <tr>\n",
       "      <th>75%</th>\n",
       "      <td>2231.250000</td>\n",
       "      <td>140100.0</td>\n",
       "      <td>1087.000000</td>\n",
       "      <td>105.250000</td>\n",
       "      <td>68.250000</td>\n",
       "      <td>51.000000</td>\n",
       "      <td>1.718750</td>\n",
       "      <td>133.000000</td>\n",
       "      <td>70.000000</td>\n",
       "      <td>138.000000</td>\n",
       "      <td>42617.250000</td>\n",
       "    </tr>\n",
       "    <tr>\n",
       "      <th>max</th>\n",
       "      <td>2960.000000</td>\n",
       "      <td>140100.0</td>\n",
       "      <td>1089.000000</td>\n",
       "      <td>358.000000</td>\n",
       "      <td>430.000000</td>\n",
       "      <td>118.000000</td>\n",
       "      <td>5.146000</td>\n",
       "      <td>253.000000</td>\n",
       "      <td>307.000000</td>\n",
       "      <td>458.000000</td>\n",
       "      <td>42699.000000</td>\n",
       "    </tr>\n",
       "  </tbody>\n",
       "</table>\n",
       "</div>"
      ],
      "text/plain": [
       "        Unnamed: 0  city_code  station_code         aqi     so2_24h  \\\n",
       "count   792.000000      792.0    792.000000  792.000000  792.000000   \n",
       "mean   1463.152778   140100.0   1085.273990   88.467172   56.385101   \n",
       "std     879.936441        0.0      2.416113   49.870289   63.320903   \n",
       "min       2.000000   140100.0   1081.000000   19.000000    3.000000   \n",
       "25%     673.750000   140100.0   1083.000000   54.750000   18.000000   \n",
       "50%    1473.500000   140100.0   1085.000000   78.500000   33.500000   \n",
       "75%    2231.250000   140100.0   1087.000000  105.250000   68.250000   \n",
       "max    2960.000000   140100.0   1089.000000  358.000000  430.000000   \n",
       "\n",
       "          no2_24h      co_24h      o3_24h   pm2_5_24h    pm10_24h  \\\n",
       "count  792.000000  792.000000  792.000000  792.000000  792.000000   \n",
       "mean    39.790404    1.385231   98.376263   54.948232  109.820707   \n",
       "std     21.127187    0.796800   52.183498   42.566478   70.414957   \n",
       "min      2.000000    0.183000    1.000000    4.000000    8.000000   \n",
       "25%     25.000000    0.828750   59.000000   25.000000   59.750000   \n",
       "50%     38.000000    1.174500   88.000000   44.000000   95.000000   \n",
       "75%     51.000000    1.718750  133.000000   70.000000  138.000000   \n",
       "max    118.000000    5.146000  253.000000  307.000000  458.000000   \n",
       "\n",
       "            pubtime  \n",
       "count    792.000000  \n",
       "mean   42532.238636  \n",
       "std       97.649234  \n",
       "min    42370.000000  \n",
       "25%    42444.750000  \n",
       "50%    42533.500000  \n",
       "75%    42617.250000  \n",
       "max    42699.000000  "
      ]
     },
     "execution_count": 14,
     "metadata": {},
     "output_type": "execute_result"
    }
   ],
   "source": [
    "test_df1=pd.read_csv('new_test_data.csv')\n",
    "test_df1.describe()"
   ]
  },
  {
   "cell_type": "code",
   "execution_count": 15,
   "metadata": {},
   "outputs": [
    {
     "data": {
      "text/plain": [
       "(1845, 9)"
      ]
     },
     "execution_count": 15,
     "metadata": {},
     "output_type": "execute_result"
    }
   ],
   "source": [
    "train.drop('aqi',axis=1, inplace=True)\n",
    "train.shape"
   ]
  },
  {
   "cell_type": "code",
   "execution_count": 16,
   "metadata": {},
   "outputs": [
    {
     "data": {
      "text/html": [
       "<div>\n",
       "<style>\n",
       "    .dataframe thead tr:only-child th {\n",
       "        text-align: right;\n",
       "    }\n",
       "\n",
       "    .dataframe thead th {\n",
       "        text-align: left;\n",
       "    }\n",
       "\n",
       "    .dataframe tbody tr th {\n",
       "        vertical-align: top;\n",
       "    }\n",
       "</style>\n",
       "<table border=\"1\" class=\"dataframe\">\n",
       "  <thead>\n",
       "    <tr style=\"text-align: right;\">\n",
       "      <th></th>\n",
       "      <th>city_code</th>\n",
       "      <th>station_code</th>\n",
       "      <th>so2_24h</th>\n",
       "      <th>no2_24h</th>\n",
       "      <th>co_24h</th>\n",
       "      <th>o3_24h</th>\n",
       "      <th>pm2_5_24h</th>\n",
       "      <th>pm10_24h</th>\n",
       "      <th>pubtime</th>\n",
       "    </tr>\n",
       "  </thead>\n",
       "  <tbody>\n",
       "    <tr>\n",
       "      <th>434</th>\n",
       "      <td>140100</td>\n",
       "      <td>1086</td>\n",
       "      <td>75.0</td>\n",
       "      <td>39.0</td>\n",
       "      <td>3.109</td>\n",
       "      <td>45.0</td>\n",
       "      <td>27.0</td>\n",
       "      <td>45.0</td>\n",
       "      <td>42401</td>\n",
       "    </tr>\n",
       "    <tr>\n",
       "      <th>1202</th>\n",
       "      <td>140100</td>\n",
       "      <td>1086</td>\n",
       "      <td>36.0</td>\n",
       "      <td>42.0</td>\n",
       "      <td>0.711</td>\n",
       "      <td>100.0</td>\n",
       "      <td>37.0</td>\n",
       "      <td>106.0</td>\n",
       "      <td>42503</td>\n",
       "    </tr>\n",
       "    <tr>\n",
       "      <th>1790</th>\n",
       "      <td>140100</td>\n",
       "      <td>1089</td>\n",
       "      <td>13.0</td>\n",
       "      <td>32.0</td>\n",
       "      <td>1.167</td>\n",
       "      <td>189.0</td>\n",
       "      <td>29.0</td>\n",
       "      <td>58.0</td>\n",
       "      <td>42568</td>\n",
       "    </tr>\n",
       "    <tr>\n",
       "      <th>1577</th>\n",
       "      <td>140100</td>\n",
       "      <td>1083</td>\n",
       "      <td>16.0</td>\n",
       "      <td>11.0</td>\n",
       "      <td>0.349</td>\n",
       "      <td>100.0</td>\n",
       "      <td>12.0</td>\n",
       "      <td>30.0</td>\n",
       "      <td>42545</td>\n",
       "    </tr>\n",
       "    <tr>\n",
       "      <th>737</th>\n",
       "      <td>140100</td>\n",
       "      <td>1089</td>\n",
       "      <td>81.0</td>\n",
       "      <td>66.0</td>\n",
       "      <td>2.115</td>\n",
       "      <td>91.0</td>\n",
       "      <td>122.0</td>\n",
       "      <td>196.0</td>\n",
       "      <td>42451</td>\n",
       "    </tr>\n",
       "  </tbody>\n",
       "</table>\n",
       "</div>"
      ],
      "text/plain": [
       "      city_code  station_code  so2_24h  no2_24h  co_24h  o3_24h  pm2_5_24h  \\\n",
       "434      140100          1086     75.0     39.0   3.109    45.0       27.0   \n",
       "1202     140100          1086     36.0     42.0   0.711   100.0       37.0   \n",
       "1790     140100          1089     13.0     32.0   1.167   189.0       29.0   \n",
       "1577     140100          1083     16.0     11.0   0.349   100.0       12.0   \n",
       "737      140100          1089     81.0     66.0   2.115    91.0      122.0   \n",
       "\n",
       "      pm10_24h  pubtime  \n",
       "434       45.0    42401  \n",
       "1202     106.0    42503  \n",
       "1790      58.0    42568  \n",
       "1577      30.0    42545  \n",
       "737      196.0    42451  "
      ]
     },
     "execution_count": 16,
     "metadata": {},
     "output_type": "execute_result"
    }
   ],
   "source": [
    "train.head(5)"
   ]
  },
  {
   "cell_type": "code",
   "execution_count": 17,
   "metadata": {},
   "outputs": [
    {
     "data": {
      "text/plain": [
       "Index(['city_code', 'station_code', 'aqi', 'so2_24h', 'no2_24h', 'co_24h',\n",
       "       'o3_24h', 'pm2_5_24h', 'pm10_24h', 'pubtime'],\n",
       "      dtype='object')"
      ]
     },
     "execution_count": 17,
     "metadata": {},
     "output_type": "execute_result"
    }
   ],
   "source": [
    "test.columns"
   ]
  },
  {
   "cell_type": "code",
   "execution_count": 18,
   "metadata": {},
   "outputs": [
    {
     "name": "stderr",
     "output_type": "stream",
     "text": [
      "C:\\Users\\Sohrab-PC\\Anaconda3\\lib\\site-packages\\ipykernel_launcher.py:1: SettingWithCopyWarning: \n",
      "A value is trying to be set on a copy of a slice from a DataFrame\n",
      "\n",
      "See the caveats in the documentation: http://pandas.pydata.org/pandas-docs/stable/indexing.html#indexing-view-versus-copy\n",
      "  \"\"\"Entry point for launching an IPython kernel.\n"
     ]
    },
    {
     "data": {
      "text/plain": [
       "(792, 9)"
      ]
     },
     "execution_count": 18,
     "metadata": {},
     "output_type": "execute_result"
    }
   ],
   "source": [
    "test.drop('aqi',axis=1, inplace=True)\n",
    "test.shape"
   ]
  },
  {
   "cell_type": "code",
   "execution_count": 19,
   "metadata": {
    "collapsed": true
   },
   "outputs": [],
   "source": [
    "from sklearn.tree import DecisionTreeRegressor\n",
    "rfc=DecisionTreeRegressor()"
   ]
  },
  {
   "cell_type": "code",
   "execution_count": 20,
   "metadata": {},
   "outputs": [
    {
     "data": {
      "text/plain": [
       "DecisionTreeRegressor(criterion='mse', max_depth=None, max_features=None,\n",
       "           max_leaf_nodes=None, min_impurity_split=1e-07,\n",
       "           min_samples_leaf=1, min_samples_split=2,\n",
       "           min_weight_fraction_leaf=0.0, presort=False, random_state=None,\n",
       "           splitter='best')"
      ]
     },
     "execution_count": 20,
     "metadata": {},
     "output_type": "execute_result"
    }
   ],
   "source": [
    "rfc.fit(train,response_vector.values.ravel())\n",
    "#rfc.fit(train,response_vector)\n"
   ]
  },
  {
   "cell_type": "code",
   "execution_count": 21,
   "metadata": {
    "collapsed": true
   },
   "outputs": [],
   "source": [
    "predict_rfc =rfc.predict(test)"
   ]
  },
  {
   "cell_type": "code",
   "execution_count": 22,
   "metadata": {},
   "outputs": [
    {
     "name": "stdout",
     "output_type": "stream",
     "text": [
      "[ 152.   65.  158.  109.  199.   52.   58.  204.   69.  112.   87.   44.\n",
      "  149.   99.   47.   64.  111.   88.   54.   91.   54.   44.   27.   36.\n",
      "   71.  104.   73.   71.   74.   33.   62.   92.  114.   63.   59.  170.\n",
      "   78.   65.   50.   60.   64.   43.   74.   88.  130.   51.   85.  100.\n",
      "   61.   41.   21.  112.   59.  167.   62.  103.  131.   64.  136.   75.\n",
      "   93.  160.   52.   60.  100.   26.   53.   76.   44.   53.   77.  219.\n",
      "   56.   53.   88.   40.   67.   61.  101.   87.   71.  220.  163.   59.\n",
      "   87.   20.  155.   61.   92.  106.   61.   92.   78.  151.   66.   95.\n",
      "   36.   48.   56.  100.   94.   47.   54.  132.   43.  114.   84.   71.\n",
      "   38.   60.   98.   51.  139.   21.   76.   36.   98.  148.   81.  153.\n",
      "   21.   90.   80.   41.  102.   67.  116.   82.  144.   78.  103.  283.\n",
      "   51.   59.  205.  175.   62.   36.   99.   80.   49.  139.   69.  166.\n",
      "   53.   77.   25.   91.   47.   75.   54.   90.  156.   90.   44.  272.\n",
      "  239.  120.  104.   70.   46.   95.   55.   70.   24.   99.   56.   95.\n",
      "  108.   81.   95.  122.   89.  129.   97.   28.  174.   63.   52.   80.\n",
      "   65.   53.   25.   48.   59.  123.   24.   56.   66.   38.  103.   92.\n",
      "  129.   63.   49.  101.  102.   70.   79.  165.  128.  224.   72.   44.\n",
      "   33.   63.   52.  104.   67.   47.  141.   57.  204.   99.  218.   33.\n",
      "  116.   48.   42.   92.  141.   95.   62.   78.   68.   49.   56.  166.\n",
      "  286.  136.   43.   58.  174.  286.   38.  103.   73.   40.   49.   95.\n",
      "  106.   24.   25.   61.   86.   76.   77.   77.   85.  105.   60.   30.\n",
      "   55.   82.   78.   96.   36.  218.  115.  118.   36.  116.   46.  234.\n",
      "   85.   85.   91.   78.   76.   79.   77.  219.   77.   90.   75.   75.\n",
      "  122.   63.   67.  175.  207.   56.   27.  103.   45.   42.  114.   21.\n",
      "  114.  119.  114.   65.  114.  106.   33.   62.   40.   61.   78.   98.\n",
      "   59.   38.  105.  104.   63.  110.   95.   81.   65.  235.   91.   97.\n",
      "  211.   81.  149.  309.   82.   36.   60.  205.  160.  160.  100.   36.\n",
      "   67.   87.   51.   79.   42.  121.  130.   29.   77.   62.   83.  170.\n",
      "   50.  106.   94.   24.   90.   55.   29.  152.  272.  100.  133.   76.\n",
      "  220.   77.  120.   31.   48.  103.  178.   89.  102.   56.   82.   56.\n",
      "  183.   89.   25.   44.   92.  102.   60.   98.   74.   97.   94.   38.\n",
      "   30.   67.   68.  112.   72.   84.   86.   27.  134.   35.   38.   96.\n",
      "   97.   92.   27.  102.   25.   41.   49.   58.   81.   70.   40.  219.\n",
      "   69.   55.   54.   79.  151.  132.   55.  110.   94.  152.  120.   30.\n",
      "   75.   73.   37.  173.   60.   87.  108.   83.   55.   94.   79.   59.\n",
      "   79.   64.   64.   85.   73.  106.   39.  104.  324.  140.  211.   82.\n",
      "  136.   99.   91.   75.   80.   88.   69.  129.  100.   71.   72.   50.\n",
      "  105.   66.  116.   73.   36.   79.   84.  102.  149.   60.   94.   62.\n",
      "   64.   92.   59.   75.  120.   46.   24.   99.  211.   44.  185.  170.\n",
      "   88.  102.   64.   27.  110.   72.   33.   52.  118.   92.   83.   84.\n",
      "  170.   72.   59.   89.   42.  141.   75.   44.  106.   86.   65.   98.\n",
      "   71.   32.  149.   87.   32.   35.  260.  101.   41.  149.  155.  120.\n",
      "  110.   41.   61.   94.   79.   65.  109.   29.   49.  120.   69.   45.\n",
      "  105.   78.  224.   23.   55.   84.   26.   60.   38.   64.   68.   46.\n",
      "   33.  144.   47.   45.  153.  128.   51.  103.   64.   27.  111.   74.\n",
      "   96.   58.   79.  140.   68.   91.   62.   35.  175.   51.  108.   74.\n",
      "  133.   28.   48.  100.   50.   41.   56.   91.  113.   86.   61.   91.\n",
      "   68.   52.   55.   91.  175.   17.   86.   69.   74.   56.  118.   76.\n",
      "   25.   69.   62.   67.   51.   93.  160.   71.  251.  101.   63.   62.\n",
      "  220.   29.   29.   45.  111.   51.   46.  183.  175.  113.   19.   63.\n",
      "  121.   64.  152.  105.  286.   83.  224.   99.   85.   94.   26.   80.\n",
      "   62.   98.   50.  111.  220.  103.   91.   49.   96.  133.  165.   88.\n",
      "   87.   99.   33.   98.  139.   41.  111.   93.  115.   75.   51.  203.\n",
      "   44.   94.  109.   42.  109.   89.   38.  170.   87.   71.   45.   49.\n",
      "   37.  116.   66.   88.   33.   87.   77.   70.   84.   28.   44.   96.\n",
      "  105.   83.   45.  220.   59.  327.   68.   50.   56.   95.   21.   76.\n",
      "   83.   80.   36.   33.   81.   65.  170.   47.   95.   54.  104.   87.\n",
      "   63.   51.   83.  105.   92.  170.   44.   92.   63.  121.  112.   73.\n",
      "   59.   55.   26.   94.   60.   81.   61.   42.  124.   73.  107.  174.\n",
      "   71.   52.   72.   61.   72.  101.   55.   33.  178.   19.   64.  136.\n",
      "   77.   63.   71.   75.  160.   51.   85.  175.  163.   99.   55.   48.\n",
      "  135.   81.   54.  135.  187.   46.  155.   48.   65.   90.  113.  132.\n",
      "   26.   84.   65.   21.   59.   61.   36.   38.   55.  242.  180.   55.\n",
      "   72.   79.   47.   95.   70.   47.   84.   88.   40.   70.   44.   26.\n",
      "   84.   82.  122.  116.   95.   78.   63.   96.   83.   46.   80.  294.\n",
      "  103.   84.  127.  181.   87.   89.   43.   88.  122.   36.  152.   50.]\n"
     ]
    }
   ],
   "source": [
    "predict_rfc.shape\n",
    "print(predict_rfc)"
   ]
  },
  {
   "cell_type": "code",
   "execution_count": 23,
   "metadata": {},
   "outputs": [
    {
     "data": {
      "text/plain": [
       "array([ 3.37247475])"
      ]
     },
     "execution_count": 23,
     "metadata": {},
     "output_type": "execute_result"
    }
   ],
   "source": [
    "#accuracy_score(test_df1.aqi,predict_rfc)\n",
    "#accuracy_score(test_df1.aqi,predict_rfc.round(), normalize=False)\n",
    "from sklearn.metrics import mean_absolute_error\n",
    "mean_absolute_error(test_df1.aqi,predict_rfc, multioutput='raw_values')\n",
    "#mean_absolute_error(test_df1.aqi,predict_rfc.round())\n",
    "#mean_absolute_error(test_df1.aqi,predict_rfc.round(),multioutput=[0.3, 0.7])"
   ]
  },
  {
   "cell_type": "code",
   "execution_count": 24,
   "metadata": {},
   "outputs": [
    {
     "name": "stdout",
     "output_type": "stream",
     "text": [
      "96.62752525252526\n",
      "95.9584633393\n"
     ]
    }
   ],
   "source": [
    "#print(classification_report(test_df1.aqi,predict_rfc))\n",
    "#print(test_df1)\n",
    "#print(predict_rfc)\n",
    "\n",
    "c=0\n",
    "import math\n",
    "predictionsArr = np.asarray(predict_rfc, dtype=\"|f8\")\n",
    "realArr = np.asarray(test_df1.aqi, dtype=\"|f8\")\n",
    "\n",
    "for x in range(0,len(predictionsArr)):\n",
    "    c += math.fabs((predictionsArr[x]-realArr[x]))\n",
    "print(100 - c/len(predict_rfc))\n",
    "c=0\n",
    "for x in range(0,len(predictionsArr)):\n",
    "    c += (math.fabs((predictionsArr[x]-realArr[x]))/realArr[x])*100\n",
    "print(100 - c/len(predict_rfc))"
   ]
  }
 ],
 "metadata": {
  "anaconda-cloud": {},
  "kernelspec": {
   "display_name": "Python 2",
   "language": "python",
   "name": "python2"
  },
  "language_info": {
   "codemirror_mode": {
    "name": "ipython",
    "version": 2
   },
   "file_extension": ".py",
   "mimetype": "text/x-python",
   "name": "python",
   "nbconvert_exporter": "python",
   "pygments_lexer": "ipython2",
   "version": "2.7.11"
  }
 },
 "nbformat": 4,
 "nbformat_minor": 1
}
